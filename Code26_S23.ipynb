{
 "cells": [
  {
   "cell_type": "markdown",
   "metadata": {},
   "source": [
    "### Import and Install Statements"
   ]
  },
  {
   "cell_type": "code",
   "execution_count": 1,
   "metadata": {},
   "outputs": [],
   "source": [
    "# # StellarGraph and Word2Vec installs\n",
    "\n",
    "# !conda install -y nltk\n",
    "# !conda install -y -c stellargraph stellargraph==1.2.1\n",
    "# !conda install -y -c conda-forge emoji\n",
    "# !conda install -y scikit-learn"
   ]
  },
  {
   "cell_type": "code",
   "execution_count": 2,
   "metadata": {},
   "outputs": [],
   "source": [
    "# !conda install -y tensorflow-gpu"
   ]
  },
  {
   "cell_type": "code",
   "execution_count": 3,
   "metadata": {},
   "outputs": [],
   "source": [
    "# !conda install -y chardet"
   ]
  },
  {
   "cell_type": "code",
   "execution_count": 4,
   "metadata": {},
   "outputs": [
    {
     "name": "stdout",
     "output_type": "stream",
     "text": [
      "Thu Apr 27 15:50:01 2023       \r\n",
      "+-----------------------------------------------------------------------------+\r\n",
      "| NVIDIA-SMI 515.65.01    Driver Version: 515.65.01    CUDA Version: 11.7     |\r\n",
      "|-------------------------------+----------------------+----------------------+\r\n",
      "| GPU  Name        Persistence-M| Bus-Id        Disp.A | Volatile Uncorr. ECC |\r\n",
      "| Fan  Temp  Perf  Pwr:Usage/Cap|         Memory-Usage | GPU-Util  Compute M. |\r\n",
      "|                               |                      |               MIG M. |\r\n",
      "|===============================+======================+======================|\r\n",
      "|   0  Tesla V100-PCIE...  On   | 00000000:3B:00.0 Off |                    0 |\r\n",
      "| N/A   39C    P0    25W / 250W |      0MiB / 32768MiB |      0%   E. Process |\r\n",
      "|                               |                      |                  N/A |\r\n",
      "+-------------------------------+----------------------+----------------------+\r\n",
      "|   1  Tesla V100-PCIE...  On   | 00000000:5E:00.0 Off |                    0 |\r\n",
      "| N/A   30C    P0    26W / 250W |      0MiB / 32768MiB |      0%   E. Process |\r\n",
      "|                               |                      |                  N/A |\r\n",
      "+-------------------------------+----------------------+----------------------+\r\n",
      "                                                                               \r\n",
      "+-----------------------------------------------------------------------------+\r\n",
      "| Processes:                                                                  |\r\n",
      "|  GPU   GI   CI        PID   Type   Process name                  GPU Memory |\r\n",
      "|        ID   ID                                                   Usage      |\r\n",
      "|=============================================================================|\r\n",
      "|  No running processes found                                                 |\r\n",
      "+-----------------------------------------------------------------------------+\r\n"
     ]
    }
   ],
   "source": [
    "!nvidia-smi"
   ]
  },
  {
   "cell_type": "code",
   "execution_count": 5,
   "metadata": {},
   "outputs": [
    {
     "name": "stderr",
     "output_type": "stream",
     "text": [
      "2023-04-27 15:50:02.249713: I tensorflow/stream_executor/platform/default/dso_loader.cc:49] Successfully opened dynamic library libcudart.so.10.1\n",
      "2023-04-27 15:50:07.734476: I tensorflow/compiler/jit/xla_cpu_device.cc:41] Not creating XLA devices, tf_xla_enable_xla_devices not set\n",
      "2023-04-27 15:50:07.735561: I tensorflow/stream_executor/platform/default/dso_loader.cc:49] Successfully opened dynamic library libcuda.so.1\n",
      "2023-04-27 15:50:07.788764: I tensorflow/core/common_runtime/gpu/gpu_device.cc:1720] Found device 0 with properties: \n",
      "pciBusID: 0000:3b:00.0 name: Tesla V100-PCIE-32GB computeCapability: 7.0\n",
      "coreClock: 1.38GHz coreCount: 80 deviceMemorySize: 31.75GiB deviceMemoryBandwidth: 836.37GiB/s\n",
      "2023-04-27 15:50:07.789109: I tensorflow/core/common_runtime/gpu/gpu_device.cc:1720] Found device 1 with properties: \n",
      "pciBusID: 0000:5e:00.0 name: Tesla V100-PCIE-32GB computeCapability: 7.0\n",
      "coreClock: 1.38GHz coreCount: 80 deviceMemorySize: 31.75GiB deviceMemoryBandwidth: 836.37GiB/s\n",
      "2023-04-27 15:50:07.789133: I tensorflow/stream_executor/platform/default/dso_loader.cc:49] Successfully opened dynamic library libcudart.so.10.1\n",
      "2023-04-27 15:50:07.794868: I tensorflow/stream_executor/platform/default/dso_loader.cc:49] Successfully opened dynamic library libcublas.so.10\n",
      "2023-04-27 15:50:07.794920: I tensorflow/stream_executor/platform/default/dso_loader.cc:49] Successfully opened dynamic library libcublasLt.so.10\n",
      "2023-04-27 15:50:07.798706: I tensorflow/stream_executor/platform/default/dso_loader.cc:49] Successfully opened dynamic library libcufft.so.10\n",
      "2023-04-27 15:50:07.800085: I tensorflow/stream_executor/platform/default/dso_loader.cc:49] Successfully opened dynamic library libcurand.so.10\n",
      "2023-04-27 15:50:07.804007: I tensorflow/stream_executor/platform/default/dso_loader.cc:49] Successfully opened dynamic library libcusolver.so.10\n",
      "2023-04-27 15:50:07.806207: I tensorflow/stream_executor/platform/default/dso_loader.cc:49] Successfully opened dynamic library libcusparse.so.10\n",
      "2023-04-27 15:50:07.812412: I tensorflow/stream_executor/platform/default/dso_loader.cc:49] Successfully opened dynamic library libcudnn.so.7\n",
      "2023-04-27 15:50:07.813596: I tensorflow/core/common_runtime/gpu/gpu_device.cc:1862] Adding visible gpu devices: 0, 1\n"
     ]
    },
    {
     "data": {
      "text/plain": [
       "[PhysicalDevice(name='/physical_device:GPU:0', device_type='GPU'),\n",
       " PhysicalDevice(name='/physical_device:GPU:1', device_type='GPU')]"
      ]
     },
     "execution_count": 5,
     "metadata": {},
     "output_type": "execute_result"
    }
   ],
   "source": [
    "import tensorflow as tf\n",
    "tf.config.list_physical_devices('GPU')"
   ]
  },
  {
   "cell_type": "code",
   "execution_count": 6,
   "metadata": {},
   "outputs": [
    {
     "name": "stderr",
     "output_type": "stream",
     "text": [
      "[nltk_data] Downloading package stopwords to\n",
      "[nltk_data]     /storage/home/hcocice1/rgrover30/nltk_data...\n",
      "[nltk_data]   Package stopwords is already up-to-date!\n",
      "[nltk_data] Downloading package wordnet to\n",
      "[nltk_data]     /storage/home/hcocice1/rgrover30/nltk_data...\n",
      "[nltk_data]   Package wordnet is already up-to-date!\n",
      "[nltk_data] Downloading package punkt to\n",
      "[nltk_data]     /storage/home/hcocice1/rgrover30/nltk_data...\n",
      "[nltk_data]   Package punkt is already up-to-date!\n",
      "2023-04-27 15:50:10.876774: I tensorflow/core/platform/cpu_feature_guard.cc:142] This TensorFlow binary is optimized with oneAPI Deep Neural Network Library (oneDNN) to use the following CPU instructions in performance-critical operations:  SSE4.1 SSE4.2 AVX AVX2 AVX512F FMA\n",
      "To enable them in other operations, rebuild TensorFlow with the appropriate compiler flags.\n",
      "2023-04-27 15:50:10.876962: I tensorflow/compiler/jit/xla_gpu_device.cc:99] Not creating XLA devices, tf_xla_enable_xla_devices not set\n",
      "2023-04-27 15:50:11.087367: I tensorflow/core/common_runtime/gpu/gpu_device.cc:1720] Found device 0 with properties: \n",
      "pciBusID: 0000:3b:00.0 name: Tesla V100-PCIE-32GB computeCapability: 7.0\n",
      "coreClock: 1.38GHz coreCount: 80 deviceMemorySize: 31.75GiB deviceMemoryBandwidth: 836.37GiB/s\n",
      "2023-04-27 15:50:11.087711: I tensorflow/core/common_runtime/gpu/gpu_device.cc:1720] Found device 1 with properties: \n",
      "pciBusID: 0000:5e:00.0 name: Tesla V100-PCIE-32GB computeCapability: 7.0\n",
      "coreClock: 1.38GHz coreCount: 80 deviceMemorySize: 31.75GiB deviceMemoryBandwidth: 836.37GiB/s\n",
      "2023-04-27 15:50:11.087740: I tensorflow/stream_executor/platform/default/dso_loader.cc:49] Successfully opened dynamic library libcudart.so.10.1\n",
      "2023-04-27 15:50:11.087767: I tensorflow/stream_executor/platform/default/dso_loader.cc:49] Successfully opened dynamic library libcublas.so.10\n",
      "2023-04-27 15:50:11.087779: I tensorflow/stream_executor/platform/default/dso_loader.cc:49] Successfully opened dynamic library libcublasLt.so.10\n",
      "2023-04-27 15:50:11.087791: I tensorflow/stream_executor/platform/default/dso_loader.cc:49] Successfully opened dynamic library libcufft.so.10\n",
      "2023-04-27 15:50:11.087803: I tensorflow/stream_executor/platform/default/dso_loader.cc:49] Successfully opened dynamic library libcurand.so.10\n",
      "2023-04-27 15:50:11.087814: I tensorflow/stream_executor/platform/default/dso_loader.cc:49] Successfully opened dynamic library libcusolver.so.10\n",
      "2023-04-27 15:50:11.087826: I tensorflow/stream_executor/platform/default/dso_loader.cc:49] Successfully opened dynamic library libcusparse.so.10\n",
      "2023-04-27 15:50:11.087837: I tensorflow/stream_executor/platform/default/dso_loader.cc:49] Successfully opened dynamic library libcudnn.so.7\n",
      "2023-04-27 15:50:11.088878: I tensorflow/core/common_runtime/gpu/gpu_device.cc:1862] Adding visible gpu devices: 0, 1\n",
      "2023-04-27 15:50:11.088912: I tensorflow/stream_executor/platform/default/dso_loader.cc:49] Successfully opened dynamic library libcudart.so.10.1\n",
      "2023-04-27 15:50:12.083097: I tensorflow/core/common_runtime/gpu/gpu_device.cc:1261] Device interconnect StreamExecutor with strength 1 edge matrix:\n",
      "2023-04-27 15:50:12.083135: I tensorflow/core/common_runtime/gpu/gpu_device.cc:1267]      0 1 \n",
      "2023-04-27 15:50:12.083151: I tensorflow/core/common_runtime/gpu/gpu_device.cc:1280] 0:   N Y \n",
      "2023-04-27 15:50:12.083157: I tensorflow/core/common_runtime/gpu/gpu_device.cc:1280] 1:   Y N \n",
      "2023-04-27 15:50:12.084598: I tensorflow/core/common_runtime/gpu/gpu_device.cc:1406] Created TensorFlow device (/job:localhost/replica:0/task:0/device:GPU:0 with 30132 MB memory) -> physical GPU (device: 0, name: Tesla V100-PCIE-32GB, pci bus id: 0000:3b:00.0, compute capability: 7.0)\n",
      "2023-04-27 15:50:12.085537: I tensorflow/core/common_runtime/gpu/gpu_device.cc:1406] Created TensorFlow device (/job:localhost/replica:0/task:0/device:GPU:1 with 30132 MB memory) -> physical GPU (device: 1, name: Tesla V100-PCIE-32GB, pci bus id: 0000:5e:00.0, compute capability: 7.0)\n"
     ]
    }
   ],
   "source": [
    "#Word2Vec Imports\n",
    "\n",
    "import nltk\n",
    "from nltk.corpus import stopwords\n",
    "from nltk.tokenize import word_tokenize\n",
    "from nltk.stem import WordNetLemmatizer\n",
    "import emoji\n",
    "import re\n",
    "\n",
    "# General Imports\n",
    "nltk.download('stopwords')\n",
    "nltk.download('wordnet')\n",
    "nltk.download('punkt')\n",
    "stop_words = set(stopwords.words('english'))\n",
    "lemmatizer = WordNetLemmatizer()\n",
    "import json\n",
    "import pandas as pd\n",
    "import numpy as np\n",
    "from sklearn import preprocessing\n",
    "from sklearn.preprocessing import LabelEncoder\n",
    "import warnings\n",
    "warnings.filterwarnings(\"ignore\")\n",
    "\n",
    "# StellarGraph Imports\n",
    "\n",
    "import stellargraph\n",
    "from stellargraph import StellarGraph\n",
    "\n",
    "# Training Imports\n",
    "import json\n",
    "import random\n",
    "import pandas as pd\n",
    "import numpy as np\n",
    "from sklearn import preprocessing, feature_extraction, model_selection\n",
    "from sklearn.metrics import mean_absolute_error, mean_squared_error\n",
    "import stellargraph as sg\n",
    "from stellargraph.mapper import HinSAGELinkGenerator\n",
    "from stellargraph.layer import HinSAGE, link_regression\n",
    "from tensorflow.keras import Model, optimizers, losses, metrics\n",
    "import multiprocessing\n",
    "from stellargraph import datasets\n",
    "from IPython.display import display, HTML\n",
    "import matplotlib.pyplot as plt\n",
    "%matplotlib inline\n",
    "import tensorflow.keras.backend as K"
   ]
  },
  {
   "cell_type": "markdown",
   "metadata": {},
   "source": [
    "### Data Loading and Preprocessing\n",
    "\n",
    "The textual columns were normalized by converting to lower, removing emoji, removing punctuation, and tokenization. The `collaborative` column was converted from Boolean to Categorical."
   ]
  },
  {
   "cell_type": "code",
   "execution_count": 7,
   "metadata": {},
   "outputs": [],
   "source": [
    "def preprocess_text(column):\n",
    "\n",
    "    # Generate preprocessed words\n",
    "    preprocessed_playlists = []\n",
    "    for playlist in column:\n",
    "        playlist_text = emoji.demojize(playlist)  # Convert emojis to textual representation\n",
    "        playlist_text = re.sub(r'\\W+', ' ', playlist_text) \n",
    "        playlist_text = playlist_text.replace('_',' ')\n",
    "        tokens = word_tokenize(playlist_text)  # Tokenize text into words\n",
    "        words = [word.lower() for word in tokens if word.isalnum()  ]  # Filtering punctuations and converting to lowercase\n",
    "        l = \" \".join(words)\n",
    "        preprocessed_playlists.append(l)\n",
    "    \n",
    "    return preprocessed_playlists"
   ]
  },
  {
   "cell_type": "code",
   "execution_count": 8,
   "metadata": {},
   "outputs": [],
   "source": [
    "# Loading the Data\n",
    "\n",
    "with open('mpd.slice.0-999.json', 'r') as file:\n",
    "    data = json.load(file)\n",
    "\n",
    "df = pd.DataFrame(data['playlists'])\n",
    "\n",
    "edges = []\n",
    "all_tracks = dict()\n",
    "count = 0\n",
    "\n",
    "for index, playlist in df.iterrows():\n",
    "  for track in playlist['tracks']:\n",
    "    if track['track_uri'] not in all_tracks.keys():\n",
    "      track['track_id'] = count\n",
    "      count += 1\n",
    "      all_tracks[track['track_uri']] = track\n",
    "    edges.append([playlist['pid'], all_tracks[track['track_uri']]['track_id']])\n",
    "\n",
    "all_tracks_df = pd.DataFrame.from_dict(all_tracks, orient='index').reset_index()\n",
    "edges_df = pd.DataFrame(edges, columns=[\"source\", \"target\"])"
   ]
  },
  {
   "cell_type": "code",
   "execution_count": 9,
   "metadata": {},
   "outputs": [],
   "source": [
    "all_tracks_df['track_name'] = preprocess_text(all_tracks_df['track_name'])\n",
    "all_tracks_df['artist_name'] = preprocess_text(all_tracks_df['artist_name'])\n",
    "all_tracks_df['album_name'] = preprocess_text(all_tracks_df['album_name'])\n",
    "\n",
    "df['name'] = preprocess_text(df['name'])"
   ]
  },
  {
   "cell_type": "code",
   "execution_count": 10,
   "metadata": {},
   "outputs": [
    {
     "data": {
      "text/html": [
       "<div>\n",
       "<style scoped>\n",
       "    .dataframe tbody tr th:only-of-type {\n",
       "        vertical-align: middle;\n",
       "    }\n",
       "\n",
       "    .dataframe tbody tr th {\n",
       "        vertical-align: top;\n",
       "    }\n",
       "\n",
       "    .dataframe thead th {\n",
       "        text-align: right;\n",
       "    }\n",
       "</style>\n",
       "<table border=\"1\" class=\"dataframe\">\n",
       "  <thead>\n",
       "    <tr style=\"text-align: right;\">\n",
       "      <th></th>\n",
       "      <th>name</th>\n",
       "      <th>collaborative</th>\n",
       "      <th>pid</th>\n",
       "      <th>modified_at</th>\n",
       "      <th>num_tracks</th>\n",
       "      <th>num_albums</th>\n",
       "      <th>num_followers</th>\n",
       "      <th>tracks</th>\n",
       "      <th>num_edits</th>\n",
       "      <th>duration_ms</th>\n",
       "      <th>num_artists</th>\n",
       "      <th>description</th>\n",
       "    </tr>\n",
       "  </thead>\n",
       "  <tbody>\n",
       "    <tr>\n",
       "      <th>0</th>\n",
       "      <td>throwbacks</td>\n",
       "      <td>false</td>\n",
       "      <td>0</td>\n",
       "      <td>1493424000</td>\n",
       "      <td>52</td>\n",
       "      <td>47</td>\n",
       "      <td>1</td>\n",
       "      <td>[{'pos': 0, 'artist_name': 'Missy Elliott', 't...</td>\n",
       "      <td>6</td>\n",
       "      <td>11532414</td>\n",
       "      <td>37</td>\n",
       "      <td>NaN</td>\n",
       "    </tr>\n",
       "    <tr>\n",
       "      <th>1</th>\n",
       "      <td>awesome playlist</td>\n",
       "      <td>false</td>\n",
       "      <td>1</td>\n",
       "      <td>1506556800</td>\n",
       "      <td>39</td>\n",
       "      <td>23</td>\n",
       "      <td>1</td>\n",
       "      <td>[{'pos': 0, 'artist_name': 'Survivor', 'track_...</td>\n",
       "      <td>5</td>\n",
       "      <td>11656470</td>\n",
       "      <td>21</td>\n",
       "      <td>NaN</td>\n",
       "    </tr>\n",
       "    <tr>\n",
       "      <th>2</th>\n",
       "      <td>korean</td>\n",
       "      <td>false</td>\n",
       "      <td>2</td>\n",
       "      <td>1505692800</td>\n",
       "      <td>64</td>\n",
       "      <td>51</td>\n",
       "      <td>1</td>\n",
       "      <td>[{'pos': 0, 'artist_name': 'Hoody', 'track_uri...</td>\n",
       "      <td>18</td>\n",
       "      <td>14039958</td>\n",
       "      <td>31</td>\n",
       "      <td>NaN</td>\n",
       "    </tr>\n",
       "    <tr>\n",
       "      <th>3</th>\n",
       "      <td>mat</td>\n",
       "      <td>false</td>\n",
       "      <td>3</td>\n",
       "      <td>1501027200</td>\n",
       "      <td>126</td>\n",
       "      <td>107</td>\n",
       "      <td>1</td>\n",
       "      <td>[{'pos': 0, 'artist_name': 'Camille Saint-Saën...</td>\n",
       "      <td>4</td>\n",
       "      <td>28926058</td>\n",
       "      <td>86</td>\n",
       "      <td>NaN</td>\n",
       "    </tr>\n",
       "    <tr>\n",
       "      <th>4</th>\n",
       "      <td>90s</td>\n",
       "      <td>false</td>\n",
       "      <td>4</td>\n",
       "      <td>1401667200</td>\n",
       "      <td>17</td>\n",
       "      <td>16</td>\n",
       "      <td>2</td>\n",
       "      <td>[{'pos': 0, 'artist_name': 'The Smashing Pumpk...</td>\n",
       "      <td>7</td>\n",
       "      <td>4335282</td>\n",
       "      <td>16</td>\n",
       "      <td>NaN</td>\n",
       "    </tr>\n",
       "  </tbody>\n",
       "</table>\n",
       "</div>"
      ],
      "text/plain": [
       "               name collaborative  pid  modified_at  num_tracks  num_albums  \\\n",
       "0        throwbacks         false    0   1493424000          52          47   \n",
       "1  awesome playlist         false    1   1506556800          39          23   \n",
       "2            korean         false    2   1505692800          64          51   \n",
       "3               mat         false    3   1501027200         126         107   \n",
       "4               90s         false    4   1401667200          17          16   \n",
       "\n",
       "   num_followers                                             tracks  \\\n",
       "0              1  [{'pos': 0, 'artist_name': 'Missy Elliott', 't...   \n",
       "1              1  [{'pos': 0, 'artist_name': 'Survivor', 'track_...   \n",
       "2              1  [{'pos': 0, 'artist_name': 'Hoody', 'track_uri...   \n",
       "3              1  [{'pos': 0, 'artist_name': 'Camille Saint-Saën...   \n",
       "4              2  [{'pos': 0, 'artist_name': 'The Smashing Pumpk...   \n",
       "\n",
       "   num_edits  duration_ms  num_artists description  \n",
       "0          6     11532414           37         NaN  \n",
       "1          5     11656470           21         NaN  \n",
       "2         18     14039958           31         NaN  \n",
       "3          4     28926058           86         NaN  \n",
       "4          7      4335282           16         NaN  "
      ]
     },
     "execution_count": 10,
     "metadata": {},
     "output_type": "execute_result"
    }
   ],
   "source": [
    "df.head()"
   ]
  },
  {
   "cell_type": "code",
   "execution_count": 11,
   "metadata": {},
   "outputs": [
    {
     "data": {
      "text/html": [
       "<div>\n",
       "<style scoped>\n",
       "    .dataframe tbody tr th:only-of-type {\n",
       "        vertical-align: middle;\n",
       "    }\n",
       "\n",
       "    .dataframe tbody tr th {\n",
       "        vertical-align: top;\n",
       "    }\n",
       "\n",
       "    .dataframe thead th {\n",
       "        text-align: right;\n",
       "    }\n",
       "</style>\n",
       "<table border=\"1\" class=\"dataframe\">\n",
       "  <thead>\n",
       "    <tr style=\"text-align: right;\">\n",
       "      <th></th>\n",
       "      <th>index</th>\n",
       "      <th>pos</th>\n",
       "      <th>artist_name</th>\n",
       "      <th>track_uri</th>\n",
       "      <th>artist_uri</th>\n",
       "      <th>track_name</th>\n",
       "      <th>album_uri</th>\n",
       "      <th>duration_ms</th>\n",
       "      <th>album_name</th>\n",
       "      <th>track_id</th>\n",
       "    </tr>\n",
       "  </thead>\n",
       "  <tbody>\n",
       "    <tr>\n",
       "      <th>0</th>\n",
       "      <td>spotify:track:0UaMYEvWZi0ZqiDOoHU3YI</td>\n",
       "      <td>0</td>\n",
       "      <td>missy elliott</td>\n",
       "      <td>spotify:track:0UaMYEvWZi0ZqiDOoHU3YI</td>\n",
       "      <td>spotify:artist:2wIVse2owClT7go1WT98tk</td>\n",
       "      <td>lose control feat ciara fat man scoop</td>\n",
       "      <td>spotify:album:6vV5UrXcfyQD1wu4Qo2I9K</td>\n",
       "      <td>226863</td>\n",
       "      <td>the cookbook</td>\n",
       "      <td>0</td>\n",
       "    </tr>\n",
       "    <tr>\n",
       "      <th>1</th>\n",
       "      <td>spotify:track:6I9VzXrHxO9rA9A5euc8Ak</td>\n",
       "      <td>1</td>\n",
       "      <td>britney spears</td>\n",
       "      <td>spotify:track:6I9VzXrHxO9rA9A5euc8Ak</td>\n",
       "      <td>spotify:artist:26dSoYclwsYLMAKD3tpOr4</td>\n",
       "      <td>toxic</td>\n",
       "      <td>spotify:album:0z7pVBGOD7HCIB7S8eLkLI</td>\n",
       "      <td>198800</td>\n",
       "      <td>in the zone</td>\n",
       "      <td>1</td>\n",
       "    </tr>\n",
       "    <tr>\n",
       "      <th>2</th>\n",
       "      <td>spotify:track:0WqIKmW4BTrj3eJFmnCKMv</td>\n",
       "      <td>2</td>\n",
       "      <td>beyoncé</td>\n",
       "      <td>spotify:track:0WqIKmW4BTrj3eJFmnCKMv</td>\n",
       "      <td>spotify:artist:6vWDO969PvNqNYHIOW5v0m</td>\n",
       "      <td>crazy in love</td>\n",
       "      <td>spotify:album:25hVFAxTlDvXbx2X2QkUkE</td>\n",
       "      <td>235933</td>\n",
       "      <td>dangerously in love alben für die ewigkeit</td>\n",
       "      <td>2</td>\n",
       "    </tr>\n",
       "    <tr>\n",
       "      <th>3</th>\n",
       "      <td>spotify:track:1AWQoqb9bSvzTjaLralEkT</td>\n",
       "      <td>3</td>\n",
       "      <td>justin timberlake</td>\n",
       "      <td>spotify:track:1AWQoqb9bSvzTjaLralEkT</td>\n",
       "      <td>spotify:artist:31TPClRtHm23RisEBtV3X7</td>\n",
       "      <td>rock your body</td>\n",
       "      <td>spotify:album:6QPkyl04rXwTGlGlcYaRoW</td>\n",
       "      <td>267266</td>\n",
       "      <td>justified</td>\n",
       "      <td>3</td>\n",
       "    </tr>\n",
       "    <tr>\n",
       "      <th>4</th>\n",
       "      <td>spotify:track:1lzr43nnXAijIGYnCT8M8H</td>\n",
       "      <td>4</td>\n",
       "      <td>shaggy</td>\n",
       "      <td>spotify:track:1lzr43nnXAijIGYnCT8M8H</td>\n",
       "      <td>spotify:artist:5EvFsr3kj42KNv97ZEnqij</td>\n",
       "      <td>it wasn t me</td>\n",
       "      <td>spotify:album:6NmFmPX56pcLBOFMhIiKvF</td>\n",
       "      <td>227600</td>\n",
       "      <td>hot shot</td>\n",
       "      <td>4</td>\n",
       "    </tr>\n",
       "  </tbody>\n",
       "</table>\n",
       "</div>"
      ],
      "text/plain": [
       "                                  index  pos        artist_name  \\\n",
       "0  spotify:track:0UaMYEvWZi0ZqiDOoHU3YI    0      missy elliott   \n",
       "1  spotify:track:6I9VzXrHxO9rA9A5euc8Ak    1     britney spears   \n",
       "2  spotify:track:0WqIKmW4BTrj3eJFmnCKMv    2            beyoncé   \n",
       "3  spotify:track:1AWQoqb9bSvzTjaLralEkT    3  justin timberlake   \n",
       "4  spotify:track:1lzr43nnXAijIGYnCT8M8H    4             shaggy   \n",
       "\n",
       "                              track_uri  \\\n",
       "0  spotify:track:0UaMYEvWZi0ZqiDOoHU3YI   \n",
       "1  spotify:track:6I9VzXrHxO9rA9A5euc8Ak   \n",
       "2  spotify:track:0WqIKmW4BTrj3eJFmnCKMv   \n",
       "3  spotify:track:1AWQoqb9bSvzTjaLralEkT   \n",
       "4  spotify:track:1lzr43nnXAijIGYnCT8M8H   \n",
       "\n",
       "                              artist_uri  \\\n",
       "0  spotify:artist:2wIVse2owClT7go1WT98tk   \n",
       "1  spotify:artist:26dSoYclwsYLMAKD3tpOr4   \n",
       "2  spotify:artist:6vWDO969PvNqNYHIOW5v0m   \n",
       "3  spotify:artist:31TPClRtHm23RisEBtV3X7   \n",
       "4  spotify:artist:5EvFsr3kj42KNv97ZEnqij   \n",
       "\n",
       "                              track_name  \\\n",
       "0  lose control feat ciara fat man scoop   \n",
       "1                                  toxic   \n",
       "2                          crazy in love   \n",
       "3                         rock your body   \n",
       "4                           it wasn t me   \n",
       "\n",
       "                              album_uri  duration_ms  \\\n",
       "0  spotify:album:6vV5UrXcfyQD1wu4Qo2I9K       226863   \n",
       "1  spotify:album:0z7pVBGOD7HCIB7S8eLkLI       198800   \n",
       "2  spotify:album:25hVFAxTlDvXbx2X2QkUkE       235933   \n",
       "3  spotify:album:6QPkyl04rXwTGlGlcYaRoW       267266   \n",
       "4  spotify:album:6NmFmPX56pcLBOFMhIiKvF       227600   \n",
       "\n",
       "                                   album_name  track_id  \n",
       "0                                the cookbook         0  \n",
       "1                                 in the zone         1  \n",
       "2  dangerously in love alben für die ewigkeit         2  \n",
       "3                                   justified         3  \n",
       "4                                    hot shot         4  "
      ]
     },
     "execution_count": 11,
     "metadata": {},
     "output_type": "execute_result"
    }
   ],
   "source": [
    "all_tracks_df.head()"
   ]
  },
  {
   "cell_type": "code",
   "execution_count": 12,
   "metadata": {},
   "outputs": [
    {
     "data": {
      "text/html": [
       "<div>\n",
       "<style scoped>\n",
       "    .dataframe tbody tr th:only-of-type {\n",
       "        vertical-align: middle;\n",
       "    }\n",
       "\n",
       "    .dataframe tbody tr th {\n",
       "        vertical-align: top;\n",
       "    }\n",
       "\n",
       "    .dataframe thead th {\n",
       "        text-align: right;\n",
       "    }\n",
       "</style>\n",
       "<table border=\"1\" class=\"dataframe\">\n",
       "  <thead>\n",
       "    <tr style=\"text-align: right;\">\n",
       "      <th></th>\n",
       "      <th>name</th>\n",
       "      <th>collaborative</th>\n",
       "      <th>pid</th>\n",
       "      <th>modified_at</th>\n",
       "      <th>num_tracks</th>\n",
       "      <th>num_albums</th>\n",
       "      <th>num_followers</th>\n",
       "      <th>num_edits</th>\n",
       "      <th>duration_ms</th>\n",
       "      <th>num_artists</th>\n",
       "    </tr>\n",
       "  </thead>\n",
       "  <tbody>\n",
       "    <tr>\n",
       "      <th>0</th>\n",
       "      <td>throwbacks</td>\n",
       "      <td>0</td>\n",
       "      <td>0</td>\n",
       "      <td>1493424000</td>\n",
       "      <td>52</td>\n",
       "      <td>47</td>\n",
       "      <td>1</td>\n",
       "      <td>6</td>\n",
       "      <td>11532414</td>\n",
       "      <td>37</td>\n",
       "    </tr>\n",
       "    <tr>\n",
       "      <th>1</th>\n",
       "      <td>awesome playlist</td>\n",
       "      <td>0</td>\n",
       "      <td>1</td>\n",
       "      <td>1506556800</td>\n",
       "      <td>39</td>\n",
       "      <td>23</td>\n",
       "      <td>1</td>\n",
       "      <td>5</td>\n",
       "      <td>11656470</td>\n",
       "      <td>21</td>\n",
       "    </tr>\n",
       "    <tr>\n",
       "      <th>2</th>\n",
       "      <td>korean</td>\n",
       "      <td>0</td>\n",
       "      <td>2</td>\n",
       "      <td>1505692800</td>\n",
       "      <td>64</td>\n",
       "      <td>51</td>\n",
       "      <td>1</td>\n",
       "      <td>18</td>\n",
       "      <td>14039958</td>\n",
       "      <td>31</td>\n",
       "    </tr>\n",
       "    <tr>\n",
       "      <th>3</th>\n",
       "      <td>mat</td>\n",
       "      <td>0</td>\n",
       "      <td>3</td>\n",
       "      <td>1501027200</td>\n",
       "      <td>126</td>\n",
       "      <td>107</td>\n",
       "      <td>1</td>\n",
       "      <td>4</td>\n",
       "      <td>28926058</td>\n",
       "      <td>86</td>\n",
       "    </tr>\n",
       "    <tr>\n",
       "      <th>4</th>\n",
       "      <td>90s</td>\n",
       "      <td>0</td>\n",
       "      <td>4</td>\n",
       "      <td>1401667200</td>\n",
       "      <td>17</td>\n",
       "      <td>16</td>\n",
       "      <td>2</td>\n",
       "      <td>7</td>\n",
       "      <td>4335282</td>\n",
       "      <td>16</td>\n",
       "    </tr>\n",
       "  </tbody>\n",
       "</table>\n",
       "</div>"
      ],
      "text/plain": [
       "               name  collaborative  pid  modified_at  num_tracks  num_albums  \\\n",
       "0        throwbacks              0    0   1493424000          52          47   \n",
       "1  awesome playlist              0    1   1506556800          39          23   \n",
       "2            korean              0    2   1505692800          64          51   \n",
       "3               mat              0    3   1501027200         126         107   \n",
       "4               90s              0    4   1401667200          17          16   \n",
       "\n",
       "   num_followers  num_edits  duration_ms  num_artists  \n",
       "0              1          6     11532414           37  \n",
       "1              1          5     11656470           21  \n",
       "2              1         18     14039958           31  \n",
       "3              1          4     28926058           86  \n",
       "4              2          7      4335282           16  "
      ]
     },
     "execution_count": 12,
     "metadata": {},
     "output_type": "execute_result"
    }
   ],
   "source": [
    "# Converting boolean to categorical \n",
    "\n",
    "df = df.drop(columns=['tracks','description'])\n",
    "df['collaborative'] = df['collaborative'].astype('string')\n",
    "df['collaborative'] = df['collaborative'].astype('category')\n",
    "df['collaborative'] = df['collaborative'].cat.codes\n",
    "df.head()"
   ]
  },
  {
   "cell_type": "markdown",
   "metadata": {},
   "source": [
    "### Label Encoding for Artist Name, Track Name and Album Name"
   ]
  },
  {
   "cell_type": "code",
   "execution_count": 13,
   "metadata": {},
   "outputs": [],
   "source": [
    "encoder = LabelEncoder()\n",
    "\n",
    "\n",
    "all_tracks_df['artist_encoded'] = encoder.fit_transform(all_tracks_df['artist_name'])\n",
    "all_tracks_df['track_encoded'] = encoder.fit_transform(all_tracks_df['track_name'])\n",
    "all_tracks_df['album_encoded'] = encoder.fit_transform(all_tracks_df['album_name'])\n",
    "final_tracks_df = all_tracks_df[['track_id','pos','duration_ms','artist_encoded','track_encoded','album_encoded']]"
   ]
  },
  {
   "cell_type": "markdown",
   "metadata": {},
   "source": [
    "### Label Encoding for Playlist Name"
   ]
  },
  {
   "cell_type": "code",
   "execution_count": 14,
   "metadata": {},
   "outputs": [],
   "source": [
    "final_playlist_df = df\n",
    "final_playlist_df['name_encoded']  = encoder.fit_transform(final_playlist_df['name'])\n",
    "final_playlist_df = final_playlist_df.drop(columns = ['name'])"
   ]
  },
  {
   "cell_type": "markdown",
   "metadata": {},
   "source": [
    "### Adding Prefix for Different Node Types"
   ]
  },
  {
   "cell_type": "code",
   "execution_count": 15,
   "metadata": {},
   "outputs": [],
   "source": [
    "edges_df = edges_df.drop_duplicates()\n",
    "\n",
    "def p(playlist):\n",
    "    return \"p_\" + playlist.astype(str)\n",
    "\n",
    "def t(track):\n",
    "    return \"t_\" + track.astype(str)\n",
    "\n",
    "playlists_final = final_playlist_df.copy(deep = True)\n",
    "playlists_final['pid'] = p(final_playlist_df[\"pid\"])\n",
    "playlists_final.set_index(\"pid\", inplace=True)\n",
    "\n",
    "tracks_final = final_tracks_df.copy(deep = True)\n",
    "tracks_final[\"track_id\"] = t(final_tracks_df[\"track_id\"])\n",
    "tracks_final.set_index(\"track_id\", inplace=True)\n",
    "\n",
    "edges_final = pd.DataFrame()\n",
    "edges_final[\"pid\"] = p(edges_df[\"source\"])\n",
    "edges_final[\"track_id\"] = t(edges_df[\"target\"])"
   ]
  },
  {
   "cell_type": "code",
   "execution_count": 16,
   "metadata": {},
   "outputs": [
    {
     "data": {
      "text/html": [
       "<div>\n",
       "<style scoped>\n",
       "    .dataframe tbody tr th:only-of-type {\n",
       "        vertical-align: middle;\n",
       "    }\n",
       "\n",
       "    .dataframe tbody tr th {\n",
       "        vertical-align: top;\n",
       "    }\n",
       "\n",
       "    .dataframe thead th {\n",
       "        text-align: right;\n",
       "    }\n",
       "</style>\n",
       "<table border=\"1\" class=\"dataframe\">\n",
       "  <thead>\n",
       "    <tr style=\"text-align: right;\">\n",
       "      <th></th>\n",
       "      <th>collaborative</th>\n",
       "      <th>modified_at</th>\n",
       "      <th>num_tracks</th>\n",
       "      <th>num_albums</th>\n",
       "      <th>num_followers</th>\n",
       "      <th>num_edits</th>\n",
       "      <th>duration_ms</th>\n",
       "      <th>num_artists</th>\n",
       "      <th>name_encoded</th>\n",
       "    </tr>\n",
       "    <tr>\n",
       "      <th>pid</th>\n",
       "      <th></th>\n",
       "      <th></th>\n",
       "      <th></th>\n",
       "      <th></th>\n",
       "      <th></th>\n",
       "      <th></th>\n",
       "      <th></th>\n",
       "      <th></th>\n",
       "      <th></th>\n",
       "    </tr>\n",
       "  </thead>\n",
       "  <tbody>\n",
       "    <tr>\n",
       "      <th>p_0</th>\n",
       "      <td>0</td>\n",
       "      <td>1493424000</td>\n",
       "      <td>52</td>\n",
       "      <td>47</td>\n",
       "      <td>1</td>\n",
       "      <td>6</td>\n",
       "      <td>11532414</td>\n",
       "      <td>37</td>\n",
       "      <td>674</td>\n",
       "    </tr>\n",
       "    <tr>\n",
       "      <th>p_1</th>\n",
       "      <td>0</td>\n",
       "      <td>1506556800</td>\n",
       "      <td>39</td>\n",
       "      <td>23</td>\n",
       "      <td>1</td>\n",
       "      <td>5</td>\n",
       "      <td>11656470</td>\n",
       "      <td>21</td>\n",
       "      <td>60</td>\n",
       "    </tr>\n",
       "    <tr>\n",
       "      <th>p_2</th>\n",
       "      <td>0</td>\n",
       "      <td>1505692800</td>\n",
       "      <td>64</td>\n",
       "      <td>51</td>\n",
       "      <td>1</td>\n",
       "      <td>18</td>\n",
       "      <td>14039958</td>\n",
       "      <td>31</td>\n",
       "      <td>354</td>\n",
       "    </tr>\n",
       "    <tr>\n",
       "      <th>p_3</th>\n",
       "      <td>0</td>\n",
       "      <td>1501027200</td>\n",
       "      <td>126</td>\n",
       "      <td>107</td>\n",
       "      <td>1</td>\n",
       "      <td>4</td>\n",
       "      <td>28926058</td>\n",
       "      <td>86</td>\n",
       "      <td>389</td>\n",
       "    </tr>\n",
       "    <tr>\n",
       "      <th>p_4</th>\n",
       "      <td>0</td>\n",
       "      <td>1401667200</td>\n",
       "      <td>17</td>\n",
       "      <td>16</td>\n",
       "      <td>2</td>\n",
       "      <td>7</td>\n",
       "      <td>4335282</td>\n",
       "      <td>16</td>\n",
       "      <td>26</td>\n",
       "    </tr>\n",
       "  </tbody>\n",
       "</table>\n",
       "</div>"
      ],
      "text/plain": [
       "     collaborative  modified_at  num_tracks  num_albums  num_followers  \\\n",
       "pid                                                                      \n",
       "p_0              0   1493424000          52          47              1   \n",
       "p_1              0   1506556800          39          23              1   \n",
       "p_2              0   1505692800          64          51              1   \n",
       "p_3              0   1501027200         126         107              1   \n",
       "p_4              0   1401667200          17          16              2   \n",
       "\n",
       "     num_edits  duration_ms  num_artists  name_encoded  \n",
       "pid                                                     \n",
       "p_0          6     11532414           37           674  \n",
       "p_1          5     11656470           21            60  \n",
       "p_2         18     14039958           31           354  \n",
       "p_3          4     28926058           86           389  \n",
       "p_4          7      4335282           16            26  "
      ]
     },
     "execution_count": 16,
     "metadata": {},
     "output_type": "execute_result"
    }
   ],
   "source": [
    "playlists_final.head()"
   ]
  },
  {
   "cell_type": "code",
   "execution_count": 17,
   "metadata": {},
   "outputs": [
    {
     "data": {
      "text/html": [
       "<div>\n",
       "<style scoped>\n",
       "    .dataframe tbody tr th:only-of-type {\n",
       "        vertical-align: middle;\n",
       "    }\n",
       "\n",
       "    .dataframe tbody tr th {\n",
       "        vertical-align: top;\n",
       "    }\n",
       "\n",
       "    .dataframe thead th {\n",
       "        text-align: right;\n",
       "    }\n",
       "</style>\n",
       "<table border=\"1\" class=\"dataframe\">\n",
       "  <thead>\n",
       "    <tr style=\"text-align: right;\">\n",
       "      <th></th>\n",
       "      <th>pos</th>\n",
       "      <th>duration_ms</th>\n",
       "      <th>artist_encoded</th>\n",
       "      <th>track_encoded</th>\n",
       "      <th>album_encoded</th>\n",
       "    </tr>\n",
       "    <tr>\n",
       "      <th>track_id</th>\n",
       "      <th></th>\n",
       "      <th></th>\n",
       "      <th></th>\n",
       "      <th></th>\n",
       "      <th></th>\n",
       "    </tr>\n",
       "  </thead>\n",
       "  <tbody>\n",
       "    <tr>\n",
       "      <th>t_0</th>\n",
       "      <td>0</td>\n",
       "      <td>226863</td>\n",
       "      <td>5819</td>\n",
       "      <td>15095</td>\n",
       "      <td>14036</td>\n",
       "    </tr>\n",
       "    <tr>\n",
       "      <th>t_1</th>\n",
       "      <td>1</td>\n",
       "      <td>198800</td>\n",
       "      <td>1173</td>\n",
       "      <td>26225</td>\n",
       "      <td>7085</td>\n",
       "    </tr>\n",
       "    <tr>\n",
       "      <th>t_2</th>\n",
       "      <td>2</td>\n",
       "      <td>235933</td>\n",
       "      <td>850</td>\n",
       "      <td>5233</td>\n",
       "      <td>3436</td>\n",
       "    </tr>\n",
       "    <tr>\n",
       "      <th>t_3</th>\n",
       "      <td>3</td>\n",
       "      <td>267266</td>\n",
       "      <td>4435</td>\n",
       "      <td>20584</td>\n",
       "      <td>7523</td>\n",
       "    </tr>\n",
       "    <tr>\n",
       "      <th>t_4</th>\n",
       "      <td>4</td>\n",
       "      <td>227600</td>\n",
       "      <td>7412</td>\n",
       "      <td>13019</td>\n",
       "      <td>6498</td>\n",
       "    </tr>\n",
       "  </tbody>\n",
       "</table>\n",
       "</div>"
      ],
      "text/plain": [
       "          pos  duration_ms  artist_encoded  track_encoded  album_encoded\n",
       "track_id                                                                \n",
       "t_0         0       226863            5819          15095          14036\n",
       "t_1         1       198800            1173          26225           7085\n",
       "t_2         2       235933             850           5233           3436\n",
       "t_3         3       267266            4435          20584           7523\n",
       "t_4         4       227600            7412          13019           6498"
      ]
     },
     "execution_count": 17,
     "metadata": {},
     "output_type": "execute_result"
    }
   ],
   "source": [
    "tracks_final.head()"
   ]
  },
  {
   "cell_type": "code",
   "execution_count": 18,
   "metadata": {},
   "outputs": [
    {
     "data": {
      "text/html": [
       "<div>\n",
       "<style scoped>\n",
       "    .dataframe tbody tr th:only-of-type {\n",
       "        vertical-align: middle;\n",
       "    }\n",
       "\n",
       "    .dataframe tbody tr th {\n",
       "        vertical-align: top;\n",
       "    }\n",
       "\n",
       "    .dataframe thead th {\n",
       "        text-align: right;\n",
       "    }\n",
       "</style>\n",
       "<table border=\"1\" class=\"dataframe\">\n",
       "  <thead>\n",
       "    <tr style=\"text-align: right;\">\n",
       "      <th></th>\n",
       "      <th>pid</th>\n",
       "      <th>track_id</th>\n",
       "    </tr>\n",
       "  </thead>\n",
       "  <tbody>\n",
       "    <tr>\n",
       "      <th>0</th>\n",
       "      <td>p_0</td>\n",
       "      <td>t_0</td>\n",
       "    </tr>\n",
       "    <tr>\n",
       "      <th>1</th>\n",
       "      <td>p_0</td>\n",
       "      <td>t_1</td>\n",
       "    </tr>\n",
       "    <tr>\n",
       "      <th>2</th>\n",
       "      <td>p_0</td>\n",
       "      <td>t_2</td>\n",
       "    </tr>\n",
       "    <tr>\n",
       "      <th>3</th>\n",
       "      <td>p_0</td>\n",
       "      <td>t_3</td>\n",
       "    </tr>\n",
       "    <tr>\n",
       "      <th>4</th>\n",
       "      <td>p_0</td>\n",
       "      <td>t_4</td>\n",
       "    </tr>\n",
       "  </tbody>\n",
       "</table>\n",
       "</div>"
      ],
      "text/plain": [
       "   pid track_id\n",
       "0  p_0      t_0\n",
       "1  p_0      t_1\n",
       "2  p_0      t_2\n",
       "3  p_0      t_3\n",
       "4  p_0      t_4"
      ]
     },
     "execution_count": 18,
     "metadata": {},
     "output_type": "execute_result"
    }
   ],
   "source": [
    "edges_final.head()"
   ]
  },
  {
   "cell_type": "markdown",
   "metadata": {},
   "source": [
    "### Graph Creation Using StellarGraph"
   ]
  },
  {
   "cell_type": "code",
   "execution_count": 19,
   "metadata": {},
   "outputs": [],
   "source": [
    "graph = StellarGraph(\n",
    "    {\"playlists\": playlists_final, \"tracks\": tracks_final},\n",
    "    {\"link\": edges_final[[\"pid\", \"track_id\"]]},\n",
    "    source_column=\"pid\",\n",
    "    target_column=\"track_id\",\n",
    ")"
   ]
  },
  {
   "cell_type": "code",
   "execution_count": 20,
   "metadata": {},
   "outputs": [
    {
     "name": "stdout",
     "output_type": "stream",
     "text": [
      "StellarGraph: Undirected multigraph\n",
      " Nodes: 35443, Edges: 66721\n",
      "\n",
      " Node types:\n",
      "  tracks: [34443]\n",
      "    Features: float32 vector, length 5\n",
      "    Edge types: tracks-link->playlists\n",
      "  playlists: [1000]\n",
      "    Features: float32 vector, length 9\n",
      "    Edge types: playlists-link->tracks\n",
      "\n",
      " Edge types:\n",
      "    playlists-link->tracks: [66721]\n",
      "        Weights: all 1 (default)\n",
      "        Features: none\n"
     ]
    }
   ],
   "source": [
    "print(graph.info())"
   ]
  },
  {
   "cell_type": "code",
   "execution_count": 51,
   "metadata": {},
   "outputs": [
    {
     "data": {
      "image/png": "[encoded data removed]",
      "text/plain": [
       "<Figure size 640x480 with 1 Axes>"
      ]
     },
     "metadata": {},
     "output_type": "display_data"
    }
   ],
   "source": [
    "import networkx as nx\n",
    "\n",
    "G = graph.to_networkx()\n",
    "subgraph_edges = random.sample(list(G.edges()), 15)\n",
    "first_elements = [e[0] for e in subgraph_edges]\n",
    "second_elements = [e[1] for e in subgraph_edges]\n",
    "subgraph_nodes = set(n for e in subgraph_edges for n in e)\n",
    "subgraph = G.subgraph(subgraph_nodes)\n",
    "\n",
    "node_colors = []\n",
    "for node in subgraph.nodes():\n",
    "    if node in first_elements:\n",
    "        node_colors.append(\"green\")\n",
    "    elif node in second_elements:\n",
    "        node_colors.append(\"blue\")\n",
    "    else:\n",
    "        node_colors.append(\"red\")\n",
    "pos = nx.bipartite_layout(subgraph, nodes=first_elements)\n",
    "\n",
    "nx.draw(subgraph, pos=pos, with_labels=True, node_color=node_colors, width=2, alpha=0.8, arrows=True)"
   ]
  },
  {
   "cell_type": "markdown",
   "metadata": {},
   "source": [
    "### Negative Sampling of Edges"
   ]
  },
  {
   "cell_type": "code",
   "execution_count": 24,
   "metadata": {},
   "outputs": [],
   "source": [
    "batch_size = 64\n",
    "epochs = 30\n",
    "# Use 70% of edges for training, the rest for testing:\n",
    "train_size = 0.7\n",
    "test_size = 0.3"
   ]
  },
  {
   "cell_type": "code",
   "execution_count": 22,
   "metadata": {},
   "outputs": [],
   "source": [
    "random.seed(42)\n",
    "num_neg_samples = int(len(edges_final))\n",
    "neg_samples = []\n",
    "\n",
    "while len(neg_samples) < num_neg_samples:\n",
    "    random_track = random.sample(tracks_final.reset_index()['track_id'].to_list(),1)\n",
    "    random_playlist = random.sample(playlists_final.reset_index()['pid'].to_list(),1)\n",
    "    if ([random_playlist,random_track] not in edges_final.to_numpy()):\n",
    "        neg_samples.append([random_playlist,random_track])\n",
    "        \n",
    "neg_samples = np.array(neg_samples).reshape((len(neg_samples),2))"
   ]
  },
  {
   "cell_type": "code",
   "execution_count": 25,
   "metadata": {},
   "outputs": [],
   "source": [
    "neg_df = pd.DataFrame(neg_samples,columns=['pid','track_id'])\n",
    "\n",
    "neg_edges_train, neg_edges_test = model_selection.train_test_split(\n",
    "    neg_df, train_size=train_size, test_size=test_size\n",
    ")\n",
    "\n",
    "neg_edgelist_train = list(neg_edges_train[[\"pid\", \"track_id\"]].itertuples(index=False))\n",
    "neg_edgelist_test = list(neg_edges_test[[\"pid\", \"track_id\"]].itertuples(index=False))\n",
    "\n",
    "neg_labels_train = np.zeros(len(neg_edgelist_train))\n",
    "neg_labels_test = np.zeros(len(neg_edgelist_test))"
   ]
  },
  {
   "cell_type": "markdown",
   "metadata": {},
   "source": [
    "### Train-Test Split"
   ]
  },
  {
   "cell_type": "code",
   "execution_count": 26,
   "metadata": {},
   "outputs": [],
   "source": [
    "edges_train, edges_test = model_selection.train_test_split(\n",
    "    edges_final, train_size=train_size, test_size=test_size\n",
    ")\n",
    "\n",
    "edgelist_train = list(edges_train[[\"pid\", \"track_id\"]].itertuples(index=False))\n",
    "edgelist_test = list(edges_test[[\"pid\", \"track_id\"]].itertuples(index=False))\n",
    "\n",
    "labels_train = np.ones(len(edgelist_train))\n",
    "labels_test = np.ones(len(edgelist_test))"
   ]
  },
  {
   "cell_type": "code",
   "execution_count": 27,
   "metadata": {},
   "outputs": [
    {
     "data": {
      "text/plain": [
       "46704"
      ]
     },
     "execution_count": 27,
     "metadata": {},
     "output_type": "execute_result"
    }
   ],
   "source": [
    "len(neg_edgelist_train)"
   ]
  },
  {
   "cell_type": "code",
   "execution_count": 28,
   "metadata": {},
   "outputs": [
    {
     "data": {
      "text/plain": [
       "46704"
      ]
     },
     "execution_count": 28,
     "metadata": {},
     "output_type": "execute_result"
    }
   ],
   "source": [
    "len(edgelist_train)"
   ]
  },
  {
   "cell_type": "code",
   "execution_count": 29,
   "metadata": {},
   "outputs": [],
   "source": [
    "x_train = np.vstack((edgelist_train,neg_edgelist_train))\n",
    "x_test = np.vstack((edgelist_test,neg_edgelist_test))\n",
    "y_train = np.hstack((labels_train,neg_labels_train))\n",
    "y_test = np.hstack((labels_test,neg_labels_test))"
   ]
  },
  {
   "cell_type": "markdown",
   "metadata": {},
   "source": [
    "### Specifying Hyperparameters"
   ]
  },
  {
   "cell_type": "code",
   "execution_count": 30,
   "metadata": {},
   "outputs": [],
   "source": [
    "num_samples = [8,4]"
   ]
  },
  {
   "cell_type": "code",
   "execution_count": 31,
   "metadata": {},
   "outputs": [],
   "source": [
    "generator = HinSAGELinkGenerator(\n",
    "    graph, batch_size, num_samples, head_node_types=[\"playlists\", \"tracks\"]\n",
    ")\n",
    "train_gen = generator.flow(x_train, y_train, shuffle=True)\n",
    "test_gen = generator.flow(x_test, y_test)"
   ]
  },
  {
   "cell_type": "code",
   "execution_count": 32,
   "metadata": {},
   "outputs": [
    {
     "data": {
      "text/plain": [
       "[('playlists', [2]),\n",
       " ('tracks', [3]),\n",
       " ('tracks', [4]),\n",
       " ('playlists', [5]),\n",
       " ('playlists', []),\n",
       " ('tracks', [])]"
      ]
     },
     "execution_count": 32,
     "metadata": {},
     "output_type": "execute_result"
    }
   ],
   "source": [
    "generator.schema.type_adjacency_list(generator.head_node_types, len(num_samples))"
   ]
  },
  {
   "cell_type": "code",
   "execution_count": 33,
   "metadata": {},
   "outputs": [],
   "source": [
    "hinsage_layer_sizes = [32, 16]\n",
    "assert len(hinsage_layer_sizes) == len(num_samples)\n",
    "\n",
    "hinsage = HinSAGE(\n",
    "    layer_sizes=hinsage_layer_sizes, generator=generator, bias=True, dropout=0.0\n",
    ")"
   ]
  },
  {
   "cell_type": "code",
   "execution_count": 34,
   "metadata": {},
   "outputs": [
    {
     "name": "stdout",
     "output_type": "stream",
     "text": [
      "WARNING:tensorflow:AutoGraph could not transform <bound method MeanHinAggregator.call of <stellargraph.layer.hinsage.MeanHinAggregator object at 0x2aab86984950>> and will run it as-is.\n",
      "Please report this to the TensorFlow team. When filing the bug, set the verbosity to 10 (on Linux, `export AUTOGRAPH_VERBOSITY=10`) and attach the full output.\n",
      "Cause: module 'gast' has no attribute 'Index'\n",
      "To silence this warning, decorate the function with @tf.autograph.experimental.do_not_convert\n",
      "WARNING: AutoGraph could not transform <bound method MeanHinAggregator.call of <stellargraph.layer.hinsage.MeanHinAggregator object at 0x2aab86984950>> and will run it as-is.\n",
      "Please report this to the TensorFlow team. When filing the bug, set the verbosity to 10 (on Linux, `export AUTOGRAPH_VERBOSITY=10`) and attach the full output.\n",
      "Cause: module 'gast' has no attribute 'Index'\n",
      "To silence this warning, decorate the function with @tf.autograph.experimental.do_not_convert\n"
     ]
    }
   ],
   "source": [
    "# Expose input and output sockets of hinsage:\n",
    "x_inp, x_out = hinsage.in_out_tensors()"
   ]
  },
  {
   "cell_type": "code",
   "execution_count": 35,
   "metadata": {},
   "outputs": [
    {
     "name": "stdout",
     "output_type": "stream",
     "text": [
      "link_regression: using 'concat' method to combine node embeddings into edge embeddings\n",
      "WARNING:tensorflow:AutoGraph could not transform <bound method LinkEmbedding.call of <stellargraph.layer.link_inference.LinkEmbedding object at 0x2ab3913a2d10>> and will run it as-is.\n",
      "Please report this to the TensorFlow team. When filing the bug, set the verbosity to 10 (on Linux, `export AUTOGRAPH_VERBOSITY=10`) and attach the full output.\n",
      "Cause: module 'gast' has no attribute 'Index'\n",
      "To silence this warning, decorate the function with @tf.autograph.experimental.do_not_convert\n",
      "WARNING: AutoGraph could not transform <bound method LinkEmbedding.call of <stellargraph.layer.link_inference.LinkEmbedding object at 0x2ab3913a2d10>> and will run it as-is.\n",
      "Please report this to the TensorFlow team. When filing the bug, set the verbosity to 10 (on Linux, `export AUTOGRAPH_VERBOSITY=10`) and attach the full output.\n",
      "Cause: module 'gast' has no attribute 'Index'\n",
      "To silence this warning, decorate the function with @tf.autograph.experimental.do_not_convert\n"
     ]
    }
   ],
   "source": [
    "# Final estimator layer\n",
    "score_prediction = link_regression(edge_embedding_method=\"concat\")(x_out)"
   ]
  },
  {
   "cell_type": "code",
   "execution_count": 36,
   "metadata": {},
   "outputs": [],
   "source": [
    "def root_mean_square_error(s_true, s_pred):\n",
    "    return K.sqrt(K.mean(K.pow(s_true - s_pred, 2)))\n",
    "\n",
    "\n",
    "model = Model(inputs=x_inp, outputs=score_prediction)\n",
    "model.compile(\n",
    "    optimizer=optimizers.Adam(lr=5e-4),\n",
    "    loss=losses.mean_squared_error,\n",
    "    metrics=[root_mean_square_error, metrics.mae],\n",
    ")"
   ]
  },
  {
   "cell_type": "code",
   "execution_count": 37,
   "metadata": {},
   "outputs": [
    {
     "name": "stdout",
     "output_type": "stream",
     "text": [
      "Model: \"model\"\n",
      "__________________________________________________________________________________________________\n",
      "Layer (type)                    Output Shape         Param #     Connected to                     \n",
      "==================================================================================================\n",
      "input_3 (InputLayer)            [(None, 8, 5)]       0                                            \n",
      "__________________________________________________________________________________________________\n",
      "input_5 (InputLayer)            [(None, 32, 9)]      0                                            \n",
      "__________________________________________________________________________________________________\n",
      "input_6 (InputLayer)            [(None, 32, 5)]      0                                            \n",
      "__________________________________________________________________________________________________\n",
      "input_1 (InputLayer)            [(None, 1, 9)]       0                                            \n",
      "__________________________________________________________________________________________________\n",
      "reshape (Reshape)               (None, 1, 8, 5)      0           input_3[0][0]                    \n",
      "__________________________________________________________________________________________________\n",
      "reshape_2 (Reshape)             (None, 8, 4, 9)      0           input_5[0][0]                    \n",
      "__________________________________________________________________________________________________\n",
      "input_4 (InputLayer)            [(None, 8, 9)]       0                                            \n",
      "__________________________________________________________________________________________________\n",
      "reshape_3 (Reshape)             (None, 8, 4, 5)      0           input_6[0][0]                    \n",
      "__________________________________________________________________________________________________\n",
      "dropout_1 (Dropout)             (None, 1, 9)         0           input_1[0][0]                    \n",
      "__________________________________________________________________________________________________\n",
      "dropout (Dropout)               (None, 1, 8, 5)      0           reshape[0][0]                    \n",
      "__________________________________________________________________________________________________\n",
      "dropout_5 (Dropout)             (None, 8, 5)         0           input_3[0][0]                    \n",
      "__________________________________________________________________________________________________\n",
      "dropout_4 (Dropout)             (None, 8, 4, 9)      0           reshape_2[0][0]                  \n",
      "__________________________________________________________________________________________________\n",
      "input_2 (InputLayer)            [(None, 1, 5)]       0                                            \n",
      "__________________________________________________________________________________________________\n",
      "reshape_1 (Reshape)             (None, 1, 8, 9)      0           input_4[0][0]                    \n",
      "__________________________________________________________________________________________________\n",
      "dropout_7 (Dropout)             (None, 8, 9)         0           input_4[0][0]                    \n",
      "__________________________________________________________________________________________________\n",
      "dropout_6 (Dropout)             (None, 8, 4, 5)      0           reshape_3[0][0]                  \n",
      "__________________________________________________________________________________________________\n",
      "mean_hin_aggregator (MeanHinAgg multiple             256         dropout_1[0][0]                  \n",
      "                                                                 dropout[0][0]                    \n",
      "                                                                 dropout_7[0][0]                  \n",
      "                                                                 dropout_6[0][0]                  \n",
      "__________________________________________________________________________________________________\n",
      "mean_hin_aggregator_1 (MeanHinA multiple             256         dropout_3[0][0]                  \n",
      "                                                                 dropout_2[0][0]                  \n",
      "                                                                 dropout_5[0][0]                  \n",
      "                                                                 dropout_4[0][0]                  \n",
      "__________________________________________________________________________________________________\n",
      "dropout_3 (Dropout)             (None, 1, 5)         0           input_2[0][0]                    \n",
      "__________________________________________________________________________________________________\n",
      "dropout_2 (Dropout)             (None, 1, 8, 9)      0           reshape_1[0][0]                  \n",
      "__________________________________________________________________________________________________\n",
      "reshape_4 (Reshape)             (None, 1, 8, 32)     0           mean_hin_aggregator_1[1][0]      \n",
      "__________________________________________________________________________________________________\n",
      "reshape_5 (Reshape)             (None, 1, 8, 32)     0           mean_hin_aggregator[1][0]        \n",
      "__________________________________________________________________________________________________\n",
      "dropout_9 (Dropout)             (None, 1, 32)        0           mean_hin_aggregator[0][0]        \n",
      "__________________________________________________________________________________________________\n",
      "dropout_8 (Dropout)             (None, 1, 8, 32)     0           reshape_4[0][0]                  \n",
      "__________________________________________________________________________________________________\n",
      "dropout_11 (Dropout)            (None, 1, 32)        0           mean_hin_aggregator_1[0][0]      \n",
      "__________________________________________________________________________________________________\n",
      "dropout_10 (Dropout)            (None, 1, 8, 32)     0           reshape_5[0][0]                  \n",
      "__________________________________________________________________________________________________\n",
      "mean_hin_aggregator_2 (MeanHinA (None, 1, 16)        528         dropout_9[0][0]                  \n",
      "                                                                 dropout_8[0][0]                  \n",
      "__________________________________________________________________________________________________\n",
      "mean_hin_aggregator_3 (MeanHinA (None, 1, 16)        528         dropout_11[0][0]                 \n",
      "                                                                 dropout_10[0][0]                 \n",
      "__________________________________________________________________________________________________\n",
      "reshape_6 (Reshape)             (None, 16)           0           mean_hin_aggregator_2[0][0]      \n",
      "__________________________________________________________________________________________________\n",
      "reshape_7 (Reshape)             (None, 16)           0           mean_hin_aggregator_3[0][0]      \n",
      "__________________________________________________________________________________________________\n",
      "lambda (Lambda)                 (None, 16)           0           reshape_6[0][0]                  \n",
      "                                                                 reshape_7[0][0]                  \n",
      "__________________________________________________________________________________________________\n",
      "link_embedding (LinkEmbedding)  (None, 32)           0           lambda[0][0]                     \n",
      "                                                                 lambda[1][0]                     \n",
      "__________________________________________________________________________________________________\n",
      "dense (Dense)                   (None, 1)            33          link_embedding[0][0]             \n",
      "__________________________________________________________________________________________________\n",
      "reshape_8 (Reshape)             (None, 1)            0           dense[0][0]                      \n",
      "==================================================================================================\n",
      "Total params: 1,601\n",
      "Trainable params: 1,601\n",
      "Non-trainable params: 0\n",
      "__________________________________________________________________________________________________\n"
     ]
    }
   ],
   "source": [
    "model.summary()"
   ]
  },
  {
   "cell_type": "code",
   "execution_count": 38,
   "metadata": {},
   "outputs": [
    {
     "name": "stderr",
     "output_type": "stream",
     "text": [
      "2023-04-27 15:54:17.552802: I tensorflow/compiler/mlir/mlir_graph_optimization_pass.cc:116] None of the MLIR optimization passes are enabled (registered 2)\n",
      "2023-04-27 15:54:17.553372: I tensorflow/core/platform/profile_utils/cpu_utils.cc:112] CPU Frequency: 2500000000 Hz\n"
     ]
    },
    {
     "name": "stdout",
     "output_type": "stream",
     "text": [
      "WARNING:tensorflow:multiprocessing can interact badly with TensorFlow, causing nondeterministic deadlocks. For high performance data pipelines tf.data is recommended.\n"
     ]
    },
    {
     "name": "stderr",
     "output_type": "stream",
     "text": [
      "2023-04-27 15:54:18.241441: I tensorflow/stream_executor/platform/default/dso_loader.cc:49] Successfully opened dynamic library libcublas.so.10\n"
     ]
    },
    {
     "name": "stdout",
     "output_type": "stream",
     "text": [
      "626/626 [==============================] - 6s 8ms/step - loss: 0.4954 - root_mean_square_error: 0.6784 - mean_absolute_error: 0.6784\n",
      "Untrained model's Test Evaluation:\n",
      "\tloss: 0.3165\n",
      "\troot_mean_square_error: 0.4990\n",
      "\tmean_absolute_error: 0.4991\n"
     ]
    }
   ],
   "source": [
    "num_workers = 4\n",
    "\n",
    "test_metrics = model.evaluate(\n",
    "    test_gen, verbose=1, use_multiprocessing=True, workers=num_workers\n",
    ")\n",
    "\n",
    "print(\"Untrained model's Test Evaluation:\")\n",
    "for name, val in zip(model.metrics_names, test_metrics):\n",
    "    print(\"\\t{}: {:0.4f}\".format(name, val))"
   ]
  },
  {
   "cell_type": "markdown",
   "metadata": {},
   "source": [
    "### Model Training"
   ]
  },
  {
   "cell_type": "code",
   "execution_count": 39,
   "metadata": {},
   "outputs": [
    {
     "name": "stdout",
     "output_type": "stream",
     "text": [
      "Epoch 1/30\n",
      "WARNING:tensorflow:multiprocessing can interact badly with TensorFlow, causing nondeterministic deadlocks. For high performance data pipelines tf.data is recommended.\n",
      "1454/1460 [============================>.] - ETA: 0s - loss: 0.2393 - root_mean_square_error: 0.4890 - mean_absolute_error: 0.4833WARNING:tensorflow:multiprocessing can interact badly with TensorFlow, causing nondeterministic deadlocks. For high performance data pipelines tf.data is recommended.\n",
      "WARNING:tensorflow:multiprocessing can interact badly with TensorFlow, causing nondeterministic deadlocks. For high performance data pipelines tf.data is recommended.\n",
      "1460/1460 [==============================] - 21s 13ms/step - loss: 0.2392 - root_mean_square_error: 0.4889 - mean_absolute_error: 0.4831 - val_loss: 0.2172 - val_root_mean_square_error: 0.4652 - val_mean_absolute_error: 0.4379\n",
      "Epoch 2/30\n",
      "WARNING:tensorflow:multiprocessing can interact badly with TensorFlow, causing nondeterministic deadlocks. For high performance data pipelines tf.data is recommended.\n",
      "1452/1460 [============================>.] - ETA: 0s - loss: 0.2170 - root_mean_square_error: 0.4653 - mean_absolute_error: 0.4353WARNING:tensorflow:multiprocessing can interact badly with TensorFlow, causing nondeterministic deadlocks. For high performance data pipelines tf.data is recommended.\n",
      "WARNING:tensorflow:multiprocessing can interact badly with TensorFlow, causing nondeterministic deadlocks. For high performance data pipelines tf.data is recommended.\n",
      "1460/1460 [==============================] - 19s 13ms/step - loss: 0.2169 - root_mean_square_error: 0.4652 - mean_absolute_error: 0.4352 - val_loss: 0.2132 - val_root_mean_square_error: 0.4609 - val_mean_absolute_error: 0.4271\n",
      "Epoch 3/30\n",
      "WARNING:tensorflow:multiprocessing can interact badly with TensorFlow, causing nondeterministic deadlocks. For high performance data pipelines tf.data is recommended.\n",
      "1459/1460 [============================>.] - ETA: 0s - loss: 0.2142 - root_mean_square_error: 0.4622 - mean_absolute_error: 0.4289WARNING:tensorflow:multiprocessing can interact badly with TensorFlow, causing nondeterministic deadlocks. For high performance data pipelines tf.data is recommended.\n",
      "WARNING:tensorflow:multiprocessing can interact badly with TensorFlow, causing nondeterministic deadlocks. For high performance data pipelines tf.data is recommended.\n",
      "1460/1460 [==============================] - 18s 13ms/step - loss: 0.2142 - root_mean_square_error: 0.4623 - mean_absolute_error: 0.4289 - val_loss: 0.2119 - val_root_mean_square_error: 0.4597 - val_mean_absolute_error: 0.4261\n",
      "Epoch 4/30\n",
      "WARNING:tensorflow:multiprocessing can interact badly with TensorFlow, causing nondeterministic deadlocks. For high performance data pipelines tf.data is recommended.\n",
      "1456/1460 [============================>.] - ETA: 0s - loss: 0.2135 - root_mean_square_error: 0.4615 - mean_absolute_error: 0.4267WARNING:tensorflow:multiprocessing can interact badly with TensorFlow, causing nondeterministic deadlocks. For high performance data pipelines tf.data is recommended.\n",
      "WARNING:tensorflow:multiprocessing can interact badly with TensorFlow, causing nondeterministic deadlocks. For high performance data pipelines tf.data is recommended.\n",
      "1460/1460 [==============================] - 19s 13ms/step - loss: 0.2135 - root_mean_square_error: 0.4614 - mean_absolute_error: 0.4266 - val_loss: 0.2128 - val_root_mean_square_error: 0.4602 - val_mean_absolute_error: 0.4219\n",
      "Epoch 5/30\n",
      "WARNING:tensorflow:multiprocessing can interact badly with TensorFlow, causing nondeterministic deadlocks. For high performance data pipelines tf.data is recommended.\n",
      "1456/1460 [============================>.] - ETA: 0s - loss: 0.2133 - root_mean_square_error: 0.4613 - mean_absolute_error: 0.4262WARNING:tensorflow:multiprocessing can interact badly with TensorFlow, causing nondeterministic deadlocks. For high performance data pipelines tf.data is recommended.\n",
      "WARNING:tensorflow:multiprocessing can interact badly with TensorFlow, causing nondeterministic deadlocks. For high performance data pipelines tf.data is recommended.\n",
      "1460/1460 [==============================] - 19s 13ms/step - loss: 0.2133 - root_mean_square_error: 0.4613 - mean_absolute_error: 0.4261 - val_loss: 0.2120 - val_root_mean_square_error: 0.4597 - val_mean_absolute_error: 0.4230\n",
      "Epoch 6/30\n",
      "WARNING:tensorflow:multiprocessing can interact badly with TensorFlow, causing nondeterministic deadlocks. For high performance data pipelines tf.data is recommended.\n",
      "1459/1460 [============================>.] - ETA: 0s - loss: 0.2130 - root_mean_square_error: 0.4609 - mean_absolute_error: 0.4256WARNING:tensorflow:multiprocessing can interact badly with TensorFlow, causing nondeterministic deadlocks. For high performance data pipelines tf.data is recommended.\n",
      "WARNING:tensorflow:multiprocessing can interact badly with TensorFlow, causing nondeterministic deadlocks. For high performance data pipelines tf.data is recommended.\n",
      "1460/1460 [==============================] - 19s 13ms/step - loss: 0.2130 - root_mean_square_error: 0.4610 - mean_absolute_error: 0.4256 - val_loss: 0.2115 - val_root_mean_square_error: 0.4592 - val_mean_absolute_error: 0.4208\n",
      "Epoch 7/30\n",
      "WARNING:tensorflow:multiprocessing can interact badly with TensorFlow, causing nondeterministic deadlocks. For high performance data pipelines tf.data is recommended.\n",
      "1453/1460 [============================>.] - ETA: 0s - loss: 0.2132 - root_mean_square_error: 0.4612 - mean_absolute_error: 0.4260WARNING:tensorflow:multiprocessing can interact badly with TensorFlow, causing nondeterministic deadlocks. For high performance data pipelines tf.data is recommended.\n",
      "WARNING:tensorflow:multiprocessing can interact badly with TensorFlow, causing nondeterministic deadlocks. For high performance data pipelines tf.data is recommended.\n",
      "1460/1460 [==============================] - 19s 13ms/step - loss: 0.2132 - root_mean_square_error: 0.4612 - mean_absolute_error: 0.4261 - val_loss: 0.2149 - val_root_mean_square_error: 0.4589 - val_mean_absolute_error: 0.4305\n",
      "Epoch 8/30\n",
      "WARNING:tensorflow:multiprocessing can interact badly with TensorFlow, causing nondeterministic deadlocks. For high performance data pipelines tf.data is recommended.\n",
      "1456/1460 [============================>.] - ETA: 0s - loss: 0.2131 - root_mean_square_error: 0.4611 - mean_absolute_error: 0.4258WARNING:tensorflow:multiprocessing can interact badly with TensorFlow, causing nondeterministic deadlocks. For high performance data pipelines tf.data is recommended.\n",
      "WARNING:tensorflow:multiprocessing can interact badly with TensorFlow, causing nondeterministic deadlocks. For high performance data pipelines tf.data is recommended.\n",
      "1460/1460 [==============================] - 19s 13ms/step - loss: 0.2131 - root_mean_square_error: 0.4611 - mean_absolute_error: 0.4258 - val_loss: 0.2113 - val_root_mean_square_error: 0.4591 - val_mean_absolute_error: 0.4225\n",
      "Epoch 9/30\n",
      "WARNING:tensorflow:multiprocessing can interact badly with TensorFlow, causing nondeterministic deadlocks. For high performance data pipelines tf.data is recommended.\n",
      "1455/1460 [============================>.] - ETA: 0s - loss: 0.2129 - root_mean_square_error: 0.4609 - mean_absolute_error: 0.4253WARNING:tensorflow:multiprocessing can interact badly with TensorFlow, causing nondeterministic deadlocks. For high performance data pipelines tf.data is recommended.\n",
      "WARNING:tensorflow:multiprocessing can interact badly with TensorFlow, causing nondeterministic deadlocks. For high performance data pipelines tf.data is recommended.\n",
      "1460/1460 [==============================] - 19s 13ms/step - loss: 0.2129 - root_mean_square_error: 0.4609 - mean_absolute_error: 0.4253 - val_loss: 0.2117 - val_root_mean_square_error: 0.4585 - val_mean_absolute_error: 0.4188\n",
      "Epoch 10/30\n",
      "WARNING:tensorflow:multiprocessing can interact badly with TensorFlow, causing nondeterministic deadlocks. For high performance data pipelines tf.data is recommended.\n",
      "1460/1460 [==============================] - ETA: 0s - loss: 0.2129 - root_mean_square_error: 0.4608 - mean_absolute_error: 0.4255WARNING:tensorflow:multiprocessing can interact badly with TensorFlow, causing nondeterministic deadlocks. For high performance data pipelines tf.data is recommended.\n",
      "WARNING:tensorflow:multiprocessing can interact badly with TensorFlow, causing nondeterministic deadlocks. For high performance data pipelines tf.data is recommended.\n",
      "1460/1460 [==============================] - 19s 13ms/step - loss: 0.2129 - root_mean_square_error: 0.4608 - mean_absolute_error: 0.4255 - val_loss: 0.2129 - val_root_mean_square_error: 0.4602 - val_mean_absolute_error: 0.4173\n",
      "Epoch 11/30\n",
      "WARNING:tensorflow:multiprocessing can interact badly with TensorFlow, causing nondeterministic deadlocks. For high performance data pipelines tf.data is recommended.\n",
      "1458/1460 [============================>.] - ETA: 0s - loss: 0.2128 - root_mean_square_error: 0.4608 - mean_absolute_error: 0.4252WARNING:tensorflow:multiprocessing can interact badly with TensorFlow, causing nondeterministic deadlocks. For high performance data pipelines tf.data is recommended.\n",
      "WARNING:tensorflow:multiprocessing can interact badly with TensorFlow, causing nondeterministic deadlocks. For high performance data pipelines tf.data is recommended.\n",
      "1460/1460 [==============================] - 19s 13ms/step - loss: 0.2128 - root_mean_square_error: 0.4607 - mean_absolute_error: 0.4252 - val_loss: 0.2123 - val_root_mean_square_error: 0.4583 - val_mean_absolute_error: 0.4248\n",
      "Epoch 12/30\n",
      "WARNING:tensorflow:multiprocessing can interact badly with TensorFlow, causing nondeterministic deadlocks. For high performance data pipelines tf.data is recommended.\n",
      "1455/1460 [============================>.] - ETA: 0s - loss: 0.2128 - root_mean_square_error: 0.4608 - mean_absolute_error: 0.4252WARNING:tensorflow:multiprocessing can interact badly with TensorFlow, causing nondeterministic deadlocks. For high performance data pipelines tf.data is recommended.\n",
      "WARNING:tensorflow:multiprocessing can interact badly with TensorFlow, causing nondeterministic deadlocks. For high performance data pipelines tf.data is recommended.\n",
      "1460/1460 [==============================] - 19s 13ms/step - loss: 0.2128 - root_mean_square_error: 0.4607 - mean_absolute_error: 0.4251 - val_loss: 0.2114 - val_root_mean_square_error: 0.4591 - val_mean_absolute_error: 0.4226\n",
      "Epoch 13/30\n",
      "WARNING:tensorflow:multiprocessing can interact badly with TensorFlow, causing nondeterministic deadlocks. For high performance data pipelines tf.data is recommended.\n",
      "1453/1460 [============================>.] - ETA: 0s - loss: 0.2125 - root_mean_square_error: 0.4604 - mean_absolute_error: 0.4246WARNING:tensorflow:multiprocessing can interact badly with TensorFlow, causing nondeterministic deadlocks. For high performance data pipelines tf.data is recommended.\n",
      "WARNING:tensorflow:multiprocessing can interact badly with TensorFlow, causing nondeterministic deadlocks. For high performance data pipelines tf.data is recommended.\n",
      "1460/1460 [==============================] - 19s 13ms/step - loss: 0.2125 - root_mean_square_error: 0.4604 - mean_absolute_error: 0.4246 - val_loss: 0.2116 - val_root_mean_square_error: 0.4595 - val_mean_absolute_error: 0.4285\n",
      "Epoch 14/30\n",
      "WARNING:tensorflow:multiprocessing can interact badly with TensorFlow, causing nondeterministic deadlocks. For high performance data pipelines tf.data is recommended.\n",
      "1452/1460 [============================>.] - ETA: 0s - loss: 0.2125 - root_mean_square_error: 0.4605 - mean_absolute_error: 0.4246WARNING:tensorflow:multiprocessing can interact badly with TensorFlow, causing nondeterministic deadlocks. For high performance data pipelines tf.data is recommended.\n",
      "WARNING:tensorflow:multiprocessing can interact badly with TensorFlow, causing nondeterministic deadlocks. For high performance data pipelines tf.data is recommended.\n",
      "1460/1460 [==============================] - 19s 13ms/step - loss: 0.2126 - root_mean_square_error: 0.4605 - mean_absolute_error: 0.4246 - val_loss: 0.2111 - val_root_mean_square_error: 0.4584 - val_mean_absolute_error: 0.4205\n",
      "Epoch 15/30\n",
      "WARNING:tensorflow:multiprocessing can interact badly with TensorFlow, causing nondeterministic deadlocks. For high performance data pipelines tf.data is recommended.\n",
      "1457/1460 [============================>.] - ETA: 0s - loss: 0.2122 - root_mean_square_error: 0.4601 - mean_absolute_error: 0.4244WARNING:tensorflow:multiprocessing can interact badly with TensorFlow, causing nondeterministic deadlocks. For high performance data pipelines tf.data is recommended.\n",
      "WARNING:tensorflow:multiprocessing can interact badly with TensorFlow, causing nondeterministic deadlocks. For high performance data pipelines tf.data is recommended.\n",
      "1460/1460 [==============================] - 19s 13ms/step - loss: 0.2123 - root_mean_square_error: 0.4602 - mean_absolute_error: 0.4244 - val_loss: 0.2115 - val_root_mean_square_error: 0.4580 - val_mean_absolute_error: 0.4260\n",
      "Epoch 16/30\n",
      "WARNING:tensorflow:multiprocessing can interact badly with TensorFlow, causing nondeterministic deadlocks. For high performance data pipelines tf.data is recommended.\n",
      "1451/1460 [============================>.] - ETA: 0s - loss: 0.2121 - root_mean_square_error: 0.4599 - mean_absolute_error: 0.4237WARNING:tensorflow:multiprocessing can interact badly with TensorFlow, causing nondeterministic deadlocks. For high performance data pipelines tf.data is recommended.\n",
      "WARNING:tensorflow:multiprocessing can interact badly with TensorFlow, causing nondeterministic deadlocks. For high performance data pipelines tf.data is recommended.\n",
      "1460/1460 [==============================] - 19s 13ms/step - loss: 0.2121 - root_mean_square_error: 0.4599 - mean_absolute_error: 0.4237 - val_loss: 0.2112 - val_root_mean_square_error: 0.4589 - val_mean_absolute_error: 0.4259\n",
      "Epoch 17/30\n",
      "WARNING:tensorflow:multiprocessing can interact badly with TensorFlow, causing nondeterministic deadlocks. For high performance data pipelines tf.data is recommended.\n",
      "1460/1460 [==============================] - ETA: 0s - loss: 0.2120 - root_mean_square_error: 0.4599 - mean_absolute_error: 0.4234WARNING:tensorflow:multiprocessing can interact badly with TensorFlow, causing nondeterministic deadlocks. For high performance data pipelines tf.data is recommended.\n",
      "WARNING:tensorflow:multiprocessing can interact badly with TensorFlow, causing nondeterministic deadlocks. For high performance data pipelines tf.data is recommended.\n",
      "1460/1460 [==============================] - 19s 13ms/step - loss: 0.2120 - root_mean_square_error: 0.4599 - mean_absolute_error: 0.4234 - val_loss: 0.2106 - val_root_mean_square_error: 0.4582 - val_mean_absolute_error: 0.4218\n",
      "Epoch 18/30\n",
      "WARNING:tensorflow:multiprocessing can interact badly with TensorFlow, causing nondeterministic deadlocks. For high performance data pipelines tf.data is recommended.\n",
      "1458/1460 [============================>.] - ETA: 0s - loss: 0.2117 - root_mean_square_error: 0.4595 - mean_absolute_error: 0.4230WARNING:tensorflow:multiprocessing can interact badly with TensorFlow, causing nondeterministic deadlocks. For high performance data pipelines tf.data is recommended.\n",
      "WARNING:tensorflow:multiprocessing can interact badly with TensorFlow, causing nondeterministic deadlocks. For high performance data pipelines tf.data is recommended.\n",
      "1460/1460 [==============================] - 19s 13ms/step - loss: 0.2117 - root_mean_square_error: 0.4595 - mean_absolute_error: 0.4230 - val_loss: 0.2127 - val_root_mean_square_error: 0.4567 - val_mean_absolute_error: 0.4209\n",
      "Epoch 19/30\n",
      "WARNING:tensorflow:multiprocessing can interact badly with TensorFlow, causing nondeterministic deadlocks. For high performance data pipelines tf.data is recommended.\n",
      "1460/1460 [==============================] - ETA: 0s - loss: 0.2112 - root_mean_square_error: 0.4590 - mean_absolute_error: 0.4220WARNING:tensorflow:multiprocessing can interact badly with TensorFlow, causing nondeterministic deadlocks. For high performance data pipelines tf.data is recommended.\n",
      "WARNING:tensorflow:multiprocessing can interact badly with TensorFlow, causing nondeterministic deadlocks. For high performance data pipelines tf.data is recommended.\n",
      "1460/1460 [==============================] - 19s 13ms/step - loss: 0.2112 - root_mean_square_error: 0.4590 - mean_absolute_error: 0.4220 - val_loss: 0.2105 - val_root_mean_square_error: 0.4565 - val_mean_absolute_error: 0.4215\n",
      "Epoch 20/30\n",
      "WARNING:tensorflow:multiprocessing can interact badly with TensorFlow, causing nondeterministic deadlocks. For high performance data pipelines tf.data is recommended.\n",
      "1451/1460 [============================>.] - ETA: 0s - loss: 0.2094 - root_mean_square_error: 0.4570 - mean_absolute_error: 0.4186WARNING:tensorflow:multiprocessing can interact badly with TensorFlow, causing nondeterministic deadlocks. For high performance data pipelines tf.data is recommended.\n",
      "WARNING:tensorflow:multiprocessing can interact badly with TensorFlow, causing nondeterministic deadlocks. For high performance data pipelines tf.data is recommended.\n",
      "1460/1460 [==============================] - 19s 13ms/step - loss: 0.2094 - root_mean_square_error: 0.4570 - mean_absolute_error: 0.4186 - val_loss: 0.2053 - val_root_mean_square_error: 0.4524 - val_mean_absolute_error: 0.4118\n",
      "Epoch 21/30\n",
      "WARNING:tensorflow:multiprocessing can interact badly with TensorFlow, causing nondeterministic deadlocks. For high performance data pipelines tf.data is recommended.\n",
      "1456/1460 [============================>.] - ETA: 0s - loss: 0.2029 - root_mean_square_error: 0.4498 - mean_absolute_error: 0.4079WARNING:tensorflow:multiprocessing can interact badly with TensorFlow, causing nondeterministic deadlocks. For high performance data pipelines tf.data is recommended.\n",
      "WARNING:tensorflow:multiprocessing can interact badly with TensorFlow, causing nondeterministic deadlocks. For high performance data pipelines tf.data is recommended.\n",
      "1460/1460 [==============================] - 19s 13ms/step - loss: 0.2029 - root_mean_square_error: 0.4498 - mean_absolute_error: 0.4079 - val_loss: 0.1990 - val_root_mean_square_error: 0.4452 - val_mean_absolute_error: 0.4024\n",
      "Epoch 22/30\n",
      "WARNING:tensorflow:multiprocessing can interact badly with TensorFlow, causing nondeterministic deadlocks. For high performance data pipelines tf.data is recommended.\n",
      "1451/1460 [============================>.] - ETA: 0s - loss: 0.1998 - root_mean_square_error: 0.4464 - mean_absolute_error: 0.4025WARNING:tensorflow:multiprocessing can interact badly with TensorFlow, causing nondeterministic deadlocks. For high performance data pipelines tf.data is recommended.\n",
      "WARNING:tensorflow:multiprocessing can interact badly with TensorFlow, causing nondeterministic deadlocks. For high performance data pipelines tf.data is recommended.\n",
      "1460/1460 [==============================] - 19s 13ms/step - loss: 0.1998 - root_mean_square_error: 0.4463 - mean_absolute_error: 0.4025 - val_loss: 0.1989 - val_root_mean_square_error: 0.4449 - val_mean_absolute_error: 0.4018\n",
      "Epoch 23/30\n",
      "WARNING:tensorflow:multiprocessing can interact badly with TensorFlow, causing nondeterministic deadlocks. For high performance data pipelines tf.data is recommended.\n",
      "1452/1460 [============================>.] - ETA: 0s - loss: 0.1990 - root_mean_square_error: 0.4454 - mean_absolute_error: 0.4003WARNING:tensorflow:multiprocessing can interact badly with TensorFlow, causing nondeterministic deadlocks. For high performance data pipelines tf.data is recommended.\n",
      "WARNING:tensorflow:multiprocessing can interact badly with TensorFlow, causing nondeterministic deadlocks. For high performance data pipelines tf.data is recommended.\n",
      "1460/1460 [==============================] - 19s 13ms/step - loss: 0.1990 - root_mean_square_error: 0.4454 - mean_absolute_error: 0.4003 - val_loss: 0.1981 - val_root_mean_square_error: 0.4437 - val_mean_absolute_error: 0.4015\n",
      "Epoch 24/30\n",
      "WARNING:tensorflow:multiprocessing can interact badly with TensorFlow, causing nondeterministic deadlocks. For high performance data pipelines tf.data is recommended.\n",
      "1453/1460 [============================>.] - ETA: 0s - loss: 0.1987 - root_mean_square_error: 0.4451 - mean_absolute_error: 0.3996WARNING:tensorflow:multiprocessing can interact badly with TensorFlow, causing nondeterministic deadlocks. For high performance data pipelines tf.data is recommended.\n",
      "WARNING:tensorflow:multiprocessing can interact badly with TensorFlow, causing nondeterministic deadlocks. For high performance data pipelines tf.data is recommended.\n",
      "1460/1460 [==============================] - 19s 13ms/step - loss: 0.1987 - root_mean_square_error: 0.4451 - mean_absolute_error: 0.3996 - val_loss: 0.1963 - val_root_mean_square_error: 0.4423 - val_mean_absolute_error: 0.3980\n",
      "Epoch 25/30\n",
      "WARNING:tensorflow:multiprocessing can interact badly with TensorFlow, causing nondeterministic deadlocks. For high performance data pipelines tf.data is recommended.\n",
      "1450/1460 [============================>.] - ETA: 0s - loss: 0.1984 - root_mean_square_error: 0.4447 - mean_absolute_error: 0.3986WARNING:tensorflow:multiprocessing can interact badly with TensorFlow, causing nondeterministic deadlocks. For high performance data pipelines tf.data is recommended.\n",
      "WARNING:tensorflow:multiprocessing can interact badly with TensorFlow, causing nondeterministic deadlocks. For high performance data pipelines tf.data is recommended.\n",
      "1460/1460 [==============================] - 18s 13ms/step - loss: 0.1983 - root_mean_square_error: 0.4446 - mean_absolute_error: 0.3984 - val_loss: 0.1967 - val_root_mean_square_error: 0.4425 - val_mean_absolute_error: 0.3903\n",
      "Epoch 26/30\n",
      "WARNING:tensorflow:multiprocessing can interact badly with TensorFlow, causing nondeterministic deadlocks. For high performance data pipelines tf.data is recommended.\n",
      "1460/1460 [==============================] - ETA: 0s - loss: 0.1979 - root_mean_square_error: 0.4442 - mean_absolute_error: 0.3977WARNING:tensorflow:multiprocessing can interact badly with TensorFlow, causing nondeterministic deadlocks. For high performance data pipelines tf.data is recommended.\n",
      "WARNING:tensorflow:multiprocessing can interact badly with TensorFlow, causing nondeterministic deadlocks. For high performance data pipelines tf.data is recommended.\n",
      "1460/1460 [==============================] - 19s 13ms/step - loss: 0.1979 - root_mean_square_error: 0.4442 - mean_absolute_error: 0.3977 - val_loss: 0.1953 - val_root_mean_square_error: 0.4412 - val_mean_absolute_error: 0.3952\n",
      "Epoch 27/30\n",
      "WARNING:tensorflow:multiprocessing can interact badly with TensorFlow, causing nondeterministic deadlocks. For high performance data pipelines tf.data is recommended.\n",
      "WARNING:tensorflow:multiprocessing can interact badly with TensorFlow, causing nondeterministic deadlocks. For high performance data pipelines tf.data is recommended.\n",
      "1460/1460 [==============================] - ETA: 0s - loss: 0.1977 - root_mean_square_error: 0.4440 - mean_absolute_error: 0.3973WARNING:tensorflow:multiprocessing can interact badly with TensorFlow, causing nondeterministic deadlocks. For high performance data pipelines tf.data is recommended.\n",
      "WARNING:tensorflow:multiprocessing can interact badly with TensorFlow, causing nondeterministic deadlocks. For high performance data pipelines tf.data is recommended.\n",
      "1460/1460 [==============================] - 19s 13ms/step - loss: 0.1977 - root_mean_square_error: 0.4440 - mean_absolute_error: 0.3973 - val_loss: 0.1966 - val_root_mean_square_error: 0.4415 - val_mean_absolute_error: 0.3963\n",
      "Epoch 28/30\n",
      "WARNING:tensorflow:multiprocessing can interact badly with TensorFlow, causing nondeterministic deadlocks. For high performance data pipelines tf.data is recommended.\n",
      "1452/1460 [============================>.] - ETA: 0s - loss: 0.1978 - root_mean_square_error: 0.4441 - mean_absolute_error: 0.3977WARNING:tensorflow:multiprocessing can interact badly with TensorFlow, causing nondeterministic deadlocks. For high performance data pipelines tf.data is recommended.\n",
      "WARNING:tensorflow:multiprocessing can interact badly with TensorFlow, causing nondeterministic deadlocks. For high performance data pipelines tf.data is recommended.\n",
      "1460/1460 [==============================] - 19s 13ms/step - loss: 0.1978 - root_mean_square_error: 0.4441 - mean_absolute_error: 0.3976 - val_loss: 0.1956 - val_root_mean_square_error: 0.4414 - val_mean_absolute_error: 0.3901\n",
      "Epoch 29/30\n",
      "WARNING:tensorflow:multiprocessing can interact badly with TensorFlow, causing nondeterministic deadlocks. For high performance data pipelines tf.data is recommended.\n",
      "1454/1460 [============================>.] - ETA: 0s - loss: 0.1971 - root_mean_square_error: 0.4433 - mean_absolute_error: 0.3960WARNING:tensorflow:multiprocessing can interact badly with TensorFlow, causing nondeterministic deadlocks. For high performance data pipelines tf.data is recommended.\n",
      "WARNING:tensorflow:multiprocessing can interact badly with TensorFlow, causing nondeterministic deadlocks. For high performance data pipelines tf.data is recommended.\n",
      "1460/1460 [==============================] - 19s 13ms/step - loss: 0.1971 - root_mean_square_error: 0.4433 - mean_absolute_error: 0.3960 - val_loss: 0.1945 - val_root_mean_square_error: 0.4400 - val_mean_absolute_error: 0.3948\n",
      "Epoch 30/30\n",
      "WARNING:tensorflow:multiprocessing can interact badly with TensorFlow, causing nondeterministic deadlocks. For high performance data pipelines tf.data is recommended.\n",
      "1458/1460 [============================>.] - ETA: 0s - loss: 0.1969 - root_mean_square_error: 0.4431 - mean_absolute_error: 0.3959WARNING:tensorflow:multiprocessing can interact badly with TensorFlow, causing nondeterministic deadlocks. For high performance data pipelines tf.data is recommended.\n",
      "WARNING:tensorflow:multiprocessing can interact badly with TensorFlow, causing nondeterministic deadlocks. For high performance data pipelines tf.data is recommended.\n",
      "1460/1460 [==============================] - 19s 13ms/step - loss: 0.1969 - root_mean_square_error: 0.4431 - mean_absolute_error: 0.3959 - val_loss: 0.1942 - val_root_mean_square_error: 0.4396 - val_mean_absolute_error: 0.3937\n"
     ]
    }
   ],
   "source": [
    "history = model.fit(\n",
    "    train_gen,\n",
    "    validation_data=test_gen,\n",
    "    epochs=epochs,\n",
    "    verbose=1,\n",
    "    shuffle=False,\n",
    "    use_multiprocessing=True,\n",
    "    workers=num_workers,\n",
    ")"
   ]
  },
  {
   "cell_type": "code",
   "execution_count": 40,
   "metadata": {},
   "outputs": [
    {
     "data": {
      "image/png": "[encoded data removed]",
      "text/plain": [
       "<Figure size 700x1200 with 3 Axes>"
      ]
     },
     "metadata": {},
     "output_type": "display_data"
    }
   ],
   "source": [
    "sg.utils.plot_history(history)"
   ]
  },
  {
   "cell_type": "code",
   "execution_count": 41,
   "metadata": {},
   "outputs": [
    {
     "name": "stdout",
     "output_type": "stream",
     "text": [
      "626/626 [==============================] - 9s 14ms/step - loss: 0.1948 - root_mean_square_error: 0.4403 - mean_absolute_error: 0.3945\n",
      "Test Evaluation:\n",
      "\tloss: 0.1948\n",
      "\troot_mean_square_error: 0.4403\n",
      "\tmean_absolute_error: 0.3945\n"
     ]
    }
   ],
   "source": [
    "test_metrics = model.evaluate(\n",
    "    test_gen, use_multiprocessing=False, workers=num_workers, verbose=1\n",
    ")\n",
    "\n",
    "print(\"Test Evaluation:\")\n",
    "for name, val in zip(model.metrics_names, test_metrics):\n",
    "    print(\"\\t{}: {:0.4f}\".format(name, val))"
   ]
  },
  {
   "cell_type": "markdown",
   "metadata": {},
   "source": [
    "### Use 0.7 as cut-off for high probability recommendations"
   ]
  },
  {
   "cell_type": "code",
   "execution_count": 42,
   "metadata": {},
   "outputs": [
    {
     "name": "stdout",
     "output_type": "stream",
     "text": [
      "\n",
      "Model Test set metrics:\n",
      "\troot_mean_square_error =  0.6370283083930885\n",
      "\tmean_absolute_error =  0.40580506569415997\n"
     ]
    }
   ],
   "source": [
    "y_true = y_test\n",
    "y_pred = model.predict(test_gen)\n",
    "y_pred[y_pred >= 0.7] = 1\n",
    "y_pred[y_pred < 0.7] = 0\n",
    "\n",
    "rmse = np.sqrt(mean_squared_error(y_true, y_pred))\n",
    "mae = mean_absolute_error(y_true, y_pred)\n",
    "print(\"\\nModel Test set metrics:\")\n",
    "print(\"\\troot_mean_square_error = \", rmse)\n",
    "print(\"\\tmean_absolute_error = \", mae)"
   ]
  },
  {
   "cell_type": "code",
   "execution_count": 43,
   "metadata": {},
   "outputs": [
    {
     "data": {
      "image/png": "[encoded data removed]",
      "text/plain": [
       "<Figure size 640x480 with 1 Axes>"
      ]
     },
     "metadata": {},
     "output_type": "display_data"
    }
   ],
   "source": [
    "h_true = plt.hist(y_true, bins=30, facecolor=\"green\", alpha=0.5)\n",
    "h_pred = plt.hist(y_pred, bins=30, facecolor=\"blue\", alpha=0.5)\n",
    "plt.xlabel(\"Predictions\")\n",
    "plt.ylabel(\"Number of Edges\")\n",
    "plt.legend((\"True\", \"Predicted\"))\n",
    "plt.show()"
   ]
  },
  {
   "cell_type": "markdown",
   "metadata": {},
   "source": [
    "### Evaluation Metrics "
   ]
  },
  {
   "cell_type": "markdown",
   "metadata": {},
   "source": [
    "#### R-Precision = 0.2756"
   ]
  },
  {
   "cell_type": "code",
   "execution_count": 44,
   "metadata": {},
   "outputs": [
    {
     "data": {
      "text/plain": [
       "array([    0,     1,     2, ..., 20014, 20015, 20016])"
      ]
     },
     "execution_count": 44,
     "metadata": {},
     "output_type": "execute_result"
    }
   ],
   "source": [
    "y_true_idx = np.where(y_true == 1)[0]\n",
    "y_true_idx"
   ]
  },
  {
   "cell_type": "code",
   "execution_count": 45,
   "metadata": {},
   "outputs": [
    {
     "data": {
      "text/plain": [
       "array([    0,     3,     5, ..., 40006, 40015, 40027])"
      ]
     },
     "execution_count": 45,
     "metadata": {},
     "output_type": "execute_result"
    }
   ],
   "source": [
    "y_pred_idx = np.where(y_pred >= 0.7)[0]\n",
    "y_pred_idx"
   ]
  },
  {
   "cell_type": "code",
   "execution_count": 46,
   "metadata": {},
   "outputs": [
    {
     "data": {
      "text/plain": [
       "0.28171054603586954"
      ]
     },
     "execution_count": 46,
     "metadata": {},
     "output_type": "execute_result"
    }
   ],
   "source": [
    "target_set = set(y_true_idx)\n",
    "target_count = len(y_true_idx)\n",
    "float(len(set(y_pred_idx).intersection(y_true_idx))) / target_count"
   ]
  },
  {
   "cell_type": "markdown",
   "metadata": {},
   "source": [
    "#### DCG = 0.32515"
   ]
  },
  {
   "cell_type": "code",
   "execution_count": 47,
   "metadata": {},
   "outputs": [],
   "source": [
    "from collections import OrderedDict"
   ]
  },
  {
   "cell_type": "code",
   "execution_count": 48,
   "metadata": {},
   "outputs": [],
   "source": [
    "def dcg(relevant_elements, retrieved_elements):\n",
    "    retrieved_elements = list(OrderedDict.fromkeys(retrieved_elements))\n",
    "    relevant_elements = list(OrderedDict.fromkeys(relevant_elements))\n",
    "    if len(retrieved_elements) == 0 or len(relevant_elements) == 0:\n",
    "        return 0.0\n",
    "    score = [float(el in relevant_elements) for el in retrieved_elements]\n",
    "    return np.sum(score / np.log2(1 + np.arange(1, len(score) + 1)))"
   ]
  },
  {
   "cell_type": "code",
   "execution_count": 49,
   "metadata": {},
   "outputs": [],
   "source": [
    "idcg = dcg(y_true_idx, y_true_idx)\n",
    "true_dcg = dcg(y_true_idx, y_pred_idx)\n",
    "ndcg = true_dcg/idcg"
   ]
  },
  {
   "cell_type": "code",
   "execution_count": 50,
   "metadata": {},
   "outputs": [
    {
     "data": {
      "text/plain": [
       "0.33127583102075003"
      ]
     },
     "execution_count": 50,
     "metadata": {},
     "output_type": "execute_result"
    }
   ],
   "source": [
    "ndcg"
   ]
  },
  {
   "cell_type": "code",
   "execution_count": null,
   "metadata": {},
   "outputs": [],
   "source": []
  }
 ],
 "metadata": {
  "kernelspec": {
   "display_name": "Python [conda env:miniconda3-wstm_third]",
   "language": "python",
   "name": "conda-env-miniconda3-wstm_third-py"
  },
  "language_info": {
   "codemirror_mode": {
    "name": "ipython",
    "version": 3
   },
   "file_extension": ".py",
   "mimetype": "text/x-python",
   "name": "python",
   "nbconvert_exporter": "python",
   "pygments_lexer": "ipython3",
   "version": "3.7.16"
  }
 },
 "nbformat": 4,
 "nbformat_minor": 2
}
